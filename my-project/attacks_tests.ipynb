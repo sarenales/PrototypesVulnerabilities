{
 "cells": [
  {
   "cell_type": "markdown",
   "id": "07f500ef",
   "metadata": {},
   "source": [
    "# Attacks"
   ]
  },
  {
   "cell_type": "code",
   "execution_count": 82,
   "id": "edb9c3de",
   "metadata": {},
   "outputs": [
    {
     "name": "stdout",
     "output_type": "stream",
     "text": [
      "Defaulting to user installation because normal site-packages is not writeable\n",
      "Requirement already satisfied: torchattacks in /Users/silviaarenalesmunoz/Library/Python/3.9/lib/python/site-packages (3.5.1)\n",
      "Requirement already satisfied: torchvision>=0.8.2 in /Users/silviaarenalesmunoz/Library/Python/3.9/lib/python/site-packages (from torchattacks) (0.21.0)\n",
      "Requirement already satisfied: tqdm>=4.56.1 in /Users/silviaarenalesmunoz/Library/Python/3.9/lib/python/site-packages (from torchattacks) (4.67.1)\n",
      "Requirement already satisfied: torch>=1.7.1 in /Users/silviaarenalesmunoz/Library/Python/3.9/lib/python/site-packages (from torchattacks) (2.6.0)\n",
      "Requirement already satisfied: numpy>=1.19.4 in /Users/silviaarenalesmunoz/Library/Python/3.9/lib/python/site-packages (from torchattacks) (2.0.2)\n",
      "Requirement already satisfied: scipy>=0.14.0 in /Users/silviaarenalesmunoz/Library/Python/3.9/lib/python/site-packages (from torchattacks) (1.13.1)\n",
      "Requirement already satisfied: requests~=2.25.1 in /Users/silviaarenalesmunoz/Library/Python/3.9/lib/python/site-packages (from torchattacks) (2.25.1)\n",
      "Requirement already satisfied: chardet<5,>=3.0.2 in /Users/silviaarenalesmunoz/Library/Python/3.9/lib/python/site-packages (from requests~=2.25.1->torchattacks) (4.0.0)\n",
      "Requirement already satisfied: urllib3<1.27,>=1.21.1 in /Users/silviaarenalesmunoz/Library/Python/3.9/lib/python/site-packages (from requests~=2.25.1->torchattacks) (1.26.20)\n",
      "Requirement already satisfied: idna<3,>=2.5 in /Users/silviaarenalesmunoz/Library/Python/3.9/lib/python/site-packages (from requests~=2.25.1->torchattacks) (2.10)\n",
      "Requirement already satisfied: certifi>=2017.4.17 in /Users/silviaarenalesmunoz/Library/Python/3.9/lib/python/site-packages (from requests~=2.25.1->torchattacks) (2025.1.31)\n",
      "Requirement already satisfied: fsspec in /Users/silviaarenalesmunoz/Library/Python/3.9/lib/python/site-packages (from torch>=1.7.1->torchattacks) (2025.2.0)\n",
      "Requirement already satisfied: networkx in /Users/silviaarenalesmunoz/Library/Python/3.9/lib/python/site-packages (from torch>=1.7.1->torchattacks) (3.2.1)\n",
      "Requirement already satisfied: typing-extensions>=4.10.0 in /Users/silviaarenalesmunoz/Library/Python/3.9/lib/python/site-packages (from torch>=1.7.1->torchattacks) (4.12.2)\n",
      "Requirement already satisfied: jinja2 in /Users/silviaarenalesmunoz/Library/Python/3.9/lib/python/site-packages (from torch>=1.7.1->torchattacks) (3.1.5)\n",
      "Requirement already satisfied: sympy==1.13.1 in /Users/silviaarenalesmunoz/Library/Python/3.9/lib/python/site-packages (from torch>=1.7.1->torchattacks) (1.13.1)\n",
      "Requirement already satisfied: filelock in /Users/silviaarenalesmunoz/Library/Python/3.9/lib/python/site-packages (from torch>=1.7.1->torchattacks) (3.17.0)\n",
      "Requirement already satisfied: mpmath<1.4,>=1.1.0 in /Users/silviaarenalesmunoz/Library/Python/3.9/lib/python/site-packages (from sympy==1.13.1->torch>=1.7.1->torchattacks) (1.3.0)\n",
      "Requirement already satisfied: pillow!=8.3.*,>=5.3.0 in /Users/silviaarenalesmunoz/Library/Python/3.9/lib/python/site-packages (from torchvision>=0.8.2->torchattacks) (11.1.0)\n",
      "Requirement already satisfied: MarkupSafe>=2.0 in /Users/silviaarenalesmunoz/Library/Python/3.9/lib/python/site-packages (from jinja2->torch>=1.7.1->torchattacks) (3.0.2)\n",
      "\u001b[33mWARNING: You are using pip version 21.2.4; however, version 25.0.1 is available.\n",
      "You should consider upgrading via the '/Library/Developer/CommandLineTools/usr/bin/python3 -m pip install --upgrade pip' command.\u001b[0m\n",
      "Note: you may need to restart the kernel to use updated packages.\n"
     ]
    }
   ],
   "source": [
    "pip install torchattacks"
   ]
  },
  {
   "cell_type": "code",
   "execution_count": null,
   "id": "fd69255a",
   "metadata": {},
   "outputs": [],
   "source": []
  }
 ],
 "metadata": {
  "kernelspec": {
   "display_name": "Python 3",
   "language": "python",
   "name": "python3"
  },
  "language_info": {
   "codemirror_mode": {
    "name": "ipython",
    "version": 3
   },
   "file_extension": ".py",
   "mimetype": "text/x-python",
   "name": "python",
   "nbconvert_exporter": "python",
   "pygments_lexer": "ipython3",
   "version": "3.9.6"
  }
 },
 "nbformat": 4,
 "nbformat_minor": 5
}
