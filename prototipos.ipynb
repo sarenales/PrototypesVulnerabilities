{
 "cells": [
  {
   "cell_type": "markdown",
   "metadata": {},
   "source": [
    "## Parser_util.py"
   ]
  },
  {
   "cell_type": "markdown",
   "metadata": {},
   "source": [
    "Se crea un argument parser usando la librería argparse para definir los argumentos que pueden pasar al script desde la línea de comandos."
   ]
  },
  {
   "cell_type": "code",
   "execution_count": 158,
   "metadata": {},
   "outputs": [],
   "source": [
    "# coding=utf-8\n",
    "import os\n",
    "import argparse\n",
    "\n",
    "\n",
    "def get_parser():\n",
    "    parser = argparse.ArgumentParser()\n",
    "    parser.add_argument('-root', '--dataset_root',\n",
    "                        type=str,\n",
    "                        help='path to dataset',\n",
    "                        default='..' + os.sep + 'dataset')\n",
    "\n",
    "    parser.add_argument('-exp', '--experiment_root',\n",
    "                        type=str,\n",
    "                        help='root where to store models, losses and accuracies',\n",
    "                        default='..' + os.sep + 'output')\n",
    "\n",
    "    parser.add_argument('-nep', '--epochs',\n",
    "                        type=int,\n",
    "                        help='number of epochs to train for',\n",
    "                        default=100)\n",
    "\n",
    "    parser.add_argument('-lr', '--learning_rate',\n",
    "                        type=float,\n",
    "                        help='learning rate for the model, default=0.001',\n",
    "                        default=0.001)\n",
    "\n",
    "    parser.add_argument('-lrS', '--lr_scheduler_step',\n",
    "                        type=int,\n",
    "                        help='StepLR learning rate scheduler step, default=20',\n",
    "                        default=5)\n",
    "\n",
    "    parser.add_argument('-lrG', '--lr_scheduler_gamma',\n",
    "                        type=float,\n",
    "                        help='StepLR learning rate scheduler gamma, default=0.5',\n",
    "                        default=0.5)\n",
    "\n",
    "    parser.add_argument('-its', '--iterations',\n",
    "                        type=int,\n",
    "                        help='number of episodes per epoch, default=100',\n",
    "                        default=100)\n",
    "\n",
    "    parser.add_argument('-cTr', '--classes_per_it_tr',\n",
    "                        type=int,\n",
    "                        help='number of random classes per episode for training, default=60',\n",
    "                        default=10)\n",
    "\n",
    "    parser.add_argument('-nsTr', '--num_support_tr',\n",
    "                        type=int,\n",
    "                        help='number of samples per class to use as support for training, default=5',\n",
    "                        default=5)\n",
    "\n",
    "    parser.add_argument('-nqTr', '--num_query_tr',\n",
    "                        type=int,\n",
    "                        help='number of samples per class to use as query for training, default=5',\n",
    "                        default=5)\n",
    "\n",
    "    parser.add_argument('-cVa', '--classes_per_it_val',\n",
    "                        type=int,\n",
    "                        help='number of random classes per episode for validation, default=5',\n",
    "                        default=10)\n",
    "\n",
    "    parser.add_argument('-nsVa', '--num_support_val',\n",
    "                        type=int,\n",
    "                        help='number of samples per class to use as support for validation, default=5',\n",
    "                        default=5)\n",
    "\n",
    "    parser.add_argument('-nqVa', '--num_query_val',\n",
    "                        type=int,\n",
    "                        help='number of samples per class to use as query for validation, default=15',\n",
    "                        default=15)\n",
    "\n",
    "    parser.add_argument('-seed', '--manual_seed',\n",
    "                        type=int,\n",
    "                        help='input for the manual seeds initializations',\n",
    "                        default=7)\n",
    "\n",
    "    parser.add_argument('--cuda',\n",
    "                        action='store_true',\n",
    "                        help='enables cuda')\n",
    "\n",
    "    return parser\n"
   ]
  },
  {
   "cell_type": "markdown",
   "metadata": {},
   "source": [
    "## Protonet.py"
   ]
  },
  {
   "cell_type": "markdown",
   "metadata": {},
   "source": [
    "Modelo basado en Prototypical Networks, una arquitectura utilizada para Few-Shot Learning."
   ]
  },
  {
   "cell_type": "code",
   "execution_count": 159,
   "metadata": {},
   "outputs": [],
   "source": [
    "import torch.nn as nn\n",
    "import torch\n",
    "\n",
    "# Devuelve un bloque de convolución\n",
    "def conv_block(in_channels, out_channels):\n",
    "    '''\n",
    "    returns a block conv-bn-relu-pool\n",
    "    '''\n",
    "    return nn.Sequential(\n",
    "        nn.Conv2d(in_channels, out_channels, 3, padding=1),\n",
    "        nn.BatchNorm2d(out_channels),\n",
    "        nn.ReLU(),\n",
    "        nn.MaxPool2d(2)\n",
    "    )\n",
    "\n",
    "\n",
    "\n",
    "# Convierte imágenes en embeddings\n",
    "class ProtoNet(nn.Module):\n",
    "    def __init__(self, x_dim=1, hid_dim=64, z_dim=10):\n",
    "        super(ProtoNet, self).__init__()\n",
    "        self.encoder = nn.Sequential(\n",
    "            conv_block(x_dim, hid_dim),\n",
    "            conv_block(hid_dim, hid_dim),\n",
    "            conv_block(hid_dim, hid_dim),\n",
    "            conv_block(hid_dim, z_dim),\n",
    "        )\n",
    "        #self.fc = nn.Linear(z_dim, 10)\n",
    "\n",
    "    def forward(self, x):\n",
    "        x = self.encoder(x)\n",
    "        x = x.view(x.size(0), -1)\n",
    "        # x = self.fc(x)\n",
    "        return x\n",
    "\n",
    "    # Calcula prototipos de cada clase\n",
    "    def get_prototypes(self, embeddings, labels, n_support):\n",
    "        unique_labels = torch.unique(labels)\n",
    "        prototypes = []\n",
    "        \n",
    "        for label in unique_labels:\n",
    "            class_samples = embeddings[labels == label][:n_support]\n",
    "            class_prototype = class_samples.mean(dim=0)\n",
    "            prototypes.append(class_prototype)\n",
    "        \n",
    "        return torch.stack(prototypes)\n"
   ]
  },
  {
   "cell_type": "markdown",
   "metadata": {},
   "source": [
    "## Prototypical_batch_sampler.py"
   ]
  },
  {
   "cell_type": "markdown",
   "metadata": {},
   "source": [
    "Define un muestreador por lotes (batch sampler) que selecciona datos para entrenar un modelo Few-Shot Learning basado en Prototypical Networks.\n",
    "\n",
    "Esta clase crea episodios de entrenamiento siguiendo el paradigma de Few-Shot Learning:\n",
    "\n",
    "- En cada iteración selecciona classes_per_it clases al azar.\n",
    "- Dentro de cada clase, selecciona num_samples ejemplos.\n",
    "- Devuelve los índices en un batch mezclado.\n"
   ]
  },
  {
   "cell_type": "code",
   "execution_count": 160,
   "metadata": {},
   "outputs": [],
   "source": [
    "# coding=utf-8\n",
    "import numpy as np\n",
    "import torch\n",
    "\n",
    "\n",
    "class PrototypicalBatchSampler(object):\n",
    "    '''\n",
    "    PrototypicalBatchSampler: yield a batch of indexes at each iteration.\n",
    "    Indexes are calculated by keeping in account 'classes_per_it' and 'num_samples',\n",
    "    In fact at every iteration the batch indexes will refer to  'num_support' + 'num_query' samples\n",
    "    for 'classes_per_it' random classes.\n",
    "\n",
    "    __len__ returns the number of episodes per epoch (same as 'self.iterations').\n",
    "    '''\n",
    "\n",
    "    def __init__(self, labels, classes_per_it, num_samples, iterations):\n",
    "        '''\n",
    "        Initialize the PrototypicalBatchSampler object\n",
    "        Args:\n",
    "        - labels: an iterable containing all the labels for the current dataset\n",
    "        samples indexes will be infered from this iterable.\n",
    "        - classes_per_it: number of random classes for each iteration\n",
    "        - num_samples: number of samples for each iteration for each class (support + query)\n",
    "        - iterations: number of iterations (episodes) per epoch\n",
    "        '''\n",
    "        super(PrototypicalBatchSampler, self).__init__()\n",
    "        self.labels = labels\n",
    "        self.classes_per_it = classes_per_it\n",
    "        self.sample_per_class = num_samples\n",
    "        self.iterations = iterations\n",
    "\n",
    "        self.classes, self.counts = np.unique(self.labels, return_counts=True)\n",
    "        self.classes = torch.LongTensor(self.classes)\n",
    "\n",
    "        # create a matrix, indexes, of dim: classes X max(elements per class)\n",
    "        # fill it with nans\n",
    "        # for every class c, fill the relative row with the indices samples belonging to c\n",
    "        # in numel_per_class we store the number of samples for each class/row\n",
    "        self.idxs = range(len(self.labels))\n",
    "        self.indexes = np.empty((len(self.classes), max(self.counts)), dtype=int) * np.nan\n",
    "        self.indexes = torch.Tensor(self.indexes)\n",
    "        self.numel_per_class = torch.zeros_like(self.classes)\n",
    "        for idx, label in enumerate(self.labels):\n",
    "            label_idx = np.argwhere(self.classes == label).item()\n",
    "            self.indexes[label_idx, np.where(np.isnan(self.indexes[label_idx]))[0][0]] = idx\n",
    "            self.numel_per_class[label_idx] += 1\n",
    "\n",
    "    def __iter__(self):\n",
    "        '''\n",
    "        yield a batch of indexes\n",
    "        '''\n",
    "        spc = self.sample_per_class\n",
    "        cpi = self.classes_per_it\n",
    "\n",
    "        for it in range(self.iterations):\n",
    "            batch_size = spc * cpi\n",
    "            batch = torch.LongTensor(batch_size)\n",
    "            c_idxs = torch.randperm(len(self.classes))[:cpi]\n",
    "            for i, c in enumerate(self.classes[c_idxs]):\n",
    "                s = slice(i * spc, (i + 1) * spc)\n",
    "                # FIXME when torch.argwhere will exists\n",
    "                label_idx = torch.arange(len(self.classes)).long()[self.classes == c].item()\n",
    "                sample_idxs = torch.randperm(self.numel_per_class[label_idx])[:spc]\n",
    "                batch[s] = self.indexes[label_idx][sample_idxs]\n",
    "            batch = batch[torch.randperm(len(batch))]\n",
    "            yield batch\n",
    "\n",
    "    def __len__(self):\n",
    "        '''\n",
    "        returns the number of iterations (episodes) per epoch\n",
    "        '''\n",
    "        return self.iterations\n"
   ]
  },
  {
   "cell_type": "markdown",
   "metadata": {},
   "source": [
    "## Prototypical_loss.py"
   ]
  },
  {
   "cell_type": "markdown",
   "metadata": {},
   "source": [
    "Función de pérdida prototípica, utilizada en Redes Prototípicas para few-shot learning. Su objetivo es calcular qué tan bien un modelo puede clasificar ejemplos basándose en la distancia entre sus representaciones y los prototipos de clase."
   ]
  },
  {
   "cell_type": "code",
   "execution_count": 161,
   "metadata": {},
   "outputs": [],
   "source": [
    "# coding=utf-8\n",
    "import torch\n",
    "from torch.nn import functional as F\n",
    "from torch.nn.modules import Module\n",
    "\n",
    "\n",
    "class PrototypicalLoss(Module):\n",
    "    '''\n",
    "    Loss class deriving from Module for the prototypical loss function defined below\n",
    "    '''\n",
    "    def __init__(self, n_support):\n",
    "        super(PrototypicalLoss, self).__init__()\n",
    "        self.n_support = n_support\n",
    "\n",
    "    def forward(self, input, target):\n",
    "        return prototypical_loss(input, target, self.n_support)\n",
    "\n",
    "\n",
    "def euclidean_dist(x, y):\n",
    "    '''\n",
    "    Compute euclidean distance between two tensors\n",
    "    '''\n",
    "    # x: N x D\n",
    "    # y: M x D\n",
    "    n = x.size(0)\n",
    "    m = y.size(0)\n",
    "    d = x.size(1)\n",
    "    if d != y.size(1):\n",
    "        raise Exception\n",
    "\n",
    "    x = x.unsqueeze(1).expand(n, m, d)\n",
    "    y = y.unsqueeze(0).expand(n, m, d)\n",
    "\n",
    "    return torch.pow(x - y, 2).sum(2)\n",
    "\n",
    "\n",
    "def prototypical_loss(input, target, n_support):\n",
    "    '''\n",
    "    Inspired by https://github.com/jakesnell/prototypical-networks/blob/master/protonets/models/few_shot.py\n",
    "\n",
    "    Compute the barycentres by averaging the features of n_support\n",
    "    samples for each class in target, computes then the distances from each\n",
    "    samples' features to each one of the barycentres, computes the\n",
    "    log_probability for each n_query samples for each one of the current\n",
    "    classes, of appartaining to a class c, loss and accuracy are then computed\n",
    "    and returned\n",
    "    Args:\n",
    "    - input: the model output for a batch of samples\n",
    "    - target: ground truth for the above batch of samples\n",
    "    - n_support: number of samples to keep in account when computing\n",
    "      barycentres, for each one of the current classes\n",
    "    '''\n",
    "    target_cpu = target.to('cpu')\n",
    "    input_cpu = input.to('cpu')\n",
    "\n",
    "    def supp_idxs(c):\n",
    "        # FIXME when torch will support where as np\n",
    "        return target_cpu.eq(c).nonzero()[:n_support].squeeze(1)\n",
    "\n",
    "    # FIXME when torch.unique will be available on cuda too\n",
    "    classes = torch.unique(target_cpu)\n",
    "    n_classes = len(classes)\n",
    "    # FIXME when torch will support where as np\n",
    "    # assuming n_query, n_target constants\n",
    "    n_query = target_cpu.eq(classes[0].item()).sum().item() - n_support\n",
    "\n",
    "    support_idxs = list(map(supp_idxs, classes))\n",
    "\n",
    "    prototypes = torch.stack([input_cpu[idx_list].mean(0) for idx_list in support_idxs])\n",
    "    # FIXME when torch will support where as np\n",
    "    query_idxs = torch.stack(list(map(lambda c: target_cpu.eq(c).nonzero()[n_support:], classes))).view(-1)\n",
    "\n",
    "    query_samples = input.to('cpu')[query_idxs]\n",
    "    dists = euclidean_dist(query_samples, prototypes)\n",
    "\n",
    "    log_p_y = F.log_softmax(-dists, dim=1).view(n_classes, n_query, -1)\n",
    "\n",
    "    target_inds = torch.arange(0, n_classes)\n",
    "    target_inds = target_inds.view(n_classes, 1, 1)\n",
    "    target_inds = target_inds.expand(n_classes, n_query, 1).long()\n",
    "\n",
    "    loss_val = -log_p_y.gather(2, target_inds).squeeze().view(-1).mean()\n",
    "    _, y_hat = log_p_y.max(2)\n",
    "    acc_val = y_hat.eq(target_inds.squeeze(2)).float().mean()\n",
    "\n",
    "    return loss_val,  acc_val\n"
   ]
  },
  {
   "cell_type": "markdown",
   "metadata": {},
   "source": [
    "## Dataset MNIST"
   ]
  },
  {
   "cell_type": "code",
   "execution_count": 162,
   "metadata": {},
   "outputs": [
    {
     "name": "stdout",
     "output_type": "stream",
     "text": [
      "Shape de la imagen: torch.Size([1, 28, 28]), Clase: 5\n"
     ]
    }
   ],
   "source": [
    "import torch\n",
    "import torchvision.transforms as transforms\n",
    "from torchvision.datasets import MNIST\n",
    "from torch.utils.data import Dataset\n",
    "\n",
    "\n",
    "class MNISTFewShotDataset(Dataset):\n",
    "    def __init__(self, mode='train', root='../dataset', transform=None):\n",
    "        \"\"\"\n",
    "        Dataset adaptado de Omniglot para MNIST en el contexto de few-shot learning.\n",
    "        Args:\n",
    "        - mode: 'train' o 'test'\n",
    "        - root: directorio donde se guardará el dataset\n",
    "        - transform: transformaciones aplicadas a las imágenes\n",
    "        \"\"\"\n",
    "        super(MNISTFewShotDataset, self).__init__()\n",
    "        self.root = root\n",
    "        self.transform = transform if transform else transforms.ToTensor()\n",
    "\n",
    "        self.dataset = MNIST(root=self.root, train=(mode == 'train'), download=True, transform=self.transform)\n",
    "        self.x, self.y = self.dataset.data, self.dataset.targets\n",
    "\n",
    "    def __getitem__(self, idx):\n",
    "        img, label = self.x[idx], self.y[idx]\n",
    "        img = img.unsqueeze(0).float() / 255.0  # Normalizar imágenes a rango [0,1]\n",
    "        return img, label\n",
    "\n",
    "    def __len__(self):\n",
    "        return len(self.dataset)\n",
    "\n",
    "\n",
    "# Ejemplo de uso\n",
    "if __name__ == \"__main__\":\n",
    "    dataset = MNISTFewShotDataset(mode='train')\n",
    "    img, label = dataset[0]\n",
    "    print(f\"Shape de la imagen: {img.shape}, Clase: {label}\")\n"
   ]
  },
  {
   "cell_type": "code",
   "execution_count": 163,
   "metadata": {},
   "outputs": [
    {
     "data": {
      "image/png": "[encoded data removed]",
      "text/plain": [
       "<Figure size 1000x400 with 10 Axes>"
      ]
     },
     "metadata": {},
     "output_type": "display_data"
    }
   ],
   "source": [
    "import matplotlib.pyplot as plt\n",
    "\n",
    "dataset = MNISTFewShotDataset(mode='train')\n",
    "fig, axes = plt.subplots(2, 5, figsize=(10, 4))\n",
    "\n",
    "for i, ax in enumerate(axes.flat):\n",
    "    img, label = dataset[i]\n",
    "    img = img.squeeze(0).numpy()  # Convertir a numpy array para visualizar\n",
    "    ax.imshow(img, cmap='gray')\n",
    "    ax.set_title(f'Label: {label}')\n",
    "    ax.axis('off')\n",
    "\n",
    "plt.show()\n"
   ]
  },
  {
   "cell_type": "markdown",
   "metadata": {},
   "source": [
    "## Train.py"
   ]
  },
  {
   "cell_type": "code",
   "execution_count": 164,
   "metadata": {},
   "outputs": [
    {
     "name": "stdout",
     "output_type": "stream",
     "text": [
      "Defaulting to user installation because normal site-packages is not writeable\n",
      "Requirement already satisfied: tqdm in /Users/silviaarenalesmunoz/Library/Python/3.9/lib/python/site-packages (4.67.1)\n",
      "\u001b[33mWARNING: You are using pip version 21.2.4; however, version 25.0 is available.\n",
      "You should consider upgrading via the '/Library/Developer/CommandLineTools/usr/bin/python3 -m pip install --upgrade pip' command.\u001b[0m\n",
      "Note: you may need to restart the kernel to use updated packages.\n"
     ]
    }
   ],
   "source": [
    "pip install tqdm"
   ]
  },
  {
   "cell_type": "code",
   "execution_count": 165,
   "metadata": {},
   "outputs": [],
   "source": [
    "from tqdm import tqdm\n",
    "import numpy as np\n",
    "import torch\n",
    "import os\n",
    "\n",
    "\n",
    "def init_seed(opt):\n",
    "    '''\n",
    "    Disable cudnn to maximize reproducibility\n",
    "    '''\n",
    "    torch.cuda.cudnn_enabled = False\n",
    "    np.random.seed(opt.manual_seed)\n",
    "    torch.manual_seed(opt.manual_seed)\n",
    "    torch.cuda.manual_seed(opt.manual_seed)\n",
    "\n",
    "\n",
    "def init_dataset(opt, mode):\n",
    "    dataset = MNISTFewShotDataset(mode=mode, root=opt.dataset_root)\n",
    "    n_classes = len(np.unique(dataset.y))\n",
    "    if n_classes < opt.classes_per_it_tr or n_classes < opt.classes_per_it_val:\n",
    "        raise(Exception('There are not enough classes in the dataset in order ' +\n",
    "                        'to satisfy the chosen classes_per_it. Decrease the ' +\n",
    "                        'classes_per_it_{tr/val} option and try again.'))\n",
    "    return dataset"
   ]
  },
  {
   "cell_type": "code",
   "execution_count": 166,
   "metadata": {},
   "outputs": [],
   "source": [
    "def init_sampler(opt, labels, mode):\n",
    "    if 'train' in mode:\n",
    "        classes_per_it = opt.classes_per_it_tr\n",
    "        num_samples = opt.num_support_tr + opt.num_query_tr\n",
    "    else:\n",
    "        classes_per_it = opt.classes_per_it_val\n",
    "        num_samples = opt.num_support_val + opt.num_query_val\n",
    "\n",
    "    return PrototypicalBatchSampler(labels=labels,\n",
    "                                    classes_per_it=classes_per_it,\n",
    "                                    num_samples=num_samples,\n",
    "                                    iterations=opt.iterations)\n",
    "\n",
    "\n",
    "def init_dataloader(opt, mode):\n",
    "    dataset = init_dataset(opt, mode)\n",
    "    sampler = init_sampler(opt, dataset.y, mode)\n",
    "    dataloader = torch.utils.data.DataLoader(dataset, batch_sampler=sampler)\n",
    "    return dataloader\n",
    "\n",
    "\n",
    "def init_protonet(opt):\n",
    "    '''\n",
    "    Initialize the ProtoNet\n",
    "    '''\n",
    "    device = 'cuda:0' if torch.cuda.is_available() and opt.cuda else 'cpu'\n",
    "    model = ProtoNet().to(device)\n",
    "    return model\n",
    "\n",
    "\n",
    "def init_optim(opt, model):\n",
    "    '''\n",
    "    Initialize optimizer\n",
    "    '''\n",
    "    return torch.optim.Adam(params=model.parameters(),\n",
    "                            lr=opt.learning_rate)\n",
    "\n",
    "\n",
    "def init_lr_scheduler(opt, optim):\n",
    "    '''\n",
    "    Initialize the learning rate scheduler\n",
    "    '''\n",
    "    return torch.optim.lr_scheduler.StepLR(optimizer=optim,\n",
    "                                           gamma=opt.lr_scheduler_gamma,\n",
    "                                           step_size=opt.lr_scheduler_step)\n",
    "\n",
    "\n",
    "def save_list_to_file(path, thelist):\n",
    "    with open(path, 'w') as f:\n",
    "        for item in thelist:\n",
    "            f.write(\"%s\\n\" % item)"
   ]
  },
  {
   "cell_type": "code",
   "execution_count": 167,
   "metadata": {},
   "outputs": [],
   "source": [
    "def train(opt, tr_dataloader, model, optim, lr_scheduler, val_dataloader=None):\n",
    "    '''\n",
    "    Train the model with the prototypical learning algorithm\n",
    "    '''\n",
    "\n",
    "    device = 'cuda:0' if torch.cuda.is_available() and opt.cuda else 'cpu'\n",
    "\n",
    "    if val_dataloader is None:\n",
    "        best_state = None\n",
    "    train_loss = []\n",
    "    train_acc = []\n",
    "    val_loss = []\n",
    "    val_acc = []\n",
    "    best_acc = 0\n",
    "\n",
    "    best_model_path = os.path.join(opt.experiment_root, 'best_model.pth')\n",
    "    last_model_path = os.path.join(opt.experiment_root, 'last_model.pth')\n",
    "\n",
    "    for epoch in range(opt.epochs):\n",
    "        print('=== Epoch: {} ==='.format(epoch))\n",
    "        tr_iter = iter(tr_dataloader)\n",
    "        model.train()\n",
    "        for batch in tqdm(tr_iter):\n",
    "            optim.zero_grad()\n",
    "            x, y = batch\n",
    "            x, y = x.to(device), y.to(device)\n",
    "            model_output = model(x)\n",
    "            loss, acc = prototypical_loss(model_output, target=y,\n",
    "                                n_support=opt.num_support_tr)\n",
    "            loss.backward()\n",
    "            optim.step()\n",
    "            train_loss.append(loss.item())\n",
    "            train_acc.append(acc.item())\n",
    "        avg_loss = np.mean(train_loss[-opt.iterations:])\n",
    "        avg_acc = np.mean(train_acc[-opt.iterations:])\n",
    "        print('Avg Train Loss: {}, Avg Train Acc: {}'.format(avg_loss, avg_acc))\n",
    "        lr_scheduler.step()\n",
    "        if val_dataloader is None:\n",
    "            continue\n",
    "        val_iter = iter(val_dataloader)\n",
    "        model.eval()\n",
    "        for batch in val_iter:\n",
    "            x, y = batch\n",
    "            x, y = x.to(device), y.to(device)\n",
    "            model_output = model(x)\n",
    "            loss, acc = prototypical_loss(model_output, target=y,\n",
    "                                n_support=opt.num_support_val)\n",
    "            val_loss.append(loss.item())\n",
    "            val_acc.append(acc.item())\n",
    "        avg_loss = np.mean(val_loss[-opt.iterations:])\n",
    "        avg_acc = np.mean(val_acc[-opt.iterations:])\n",
    "        postfix = ' (Best)' if avg_acc >= best_acc else ' (Best: {})'.format(\n",
    "            best_acc)\n",
    "        print('Avg Val Loss: {}, Avg Val Acc: {}{}'.format(\n",
    "            avg_loss, avg_acc, postfix))\n",
    "        if avg_acc >= best_acc:\n",
    "            torch.save(model.state_dict(), best_model_path)\n",
    "            best_acc = avg_acc\n",
    "            best_state = model.state_dict()\n",
    "\n",
    "    torch.save(model.state_dict(), last_model_path)\n",
    "\n",
    "    for name in ['train_loss', 'train_acc', 'val_loss', 'val_acc']:\n",
    "        save_list_to_file(os.path.join(opt.experiment_root,\n",
    "                                       name + '.txt'), locals()[name])\n",
    "\n",
    "    return best_state, best_acc, train_loss, train_acc, val_loss, val_acc\n"
   ]
  },
  {
   "cell_type": "code",
   "execution_count": 168,
   "metadata": {},
   "outputs": [],
   "source": [
    "def test(opt, test_dataloader, model):\n",
    "    '''\n",
    "    Test the model trained with the prototypical learning algorithm\n",
    "    '''\n",
    "    device = 'cuda:0' if torch.cuda.is_available() and opt.cuda else 'cpu'\n",
    "    avg_acc = list()\n",
    "    for epoch in range(10):\n",
    "        test_iter = iter(test_dataloader)\n",
    "        for batch in test_iter:\n",
    "            x, y = batch\n",
    "            x, y = x.to(device), y.to(device)\n",
    "            model_output = model(x)\n",
    "            _, acc = prototypical_loss(model_output, target=y,\n",
    "                             n_support=opt.num_support_val)\n",
    "            avg_acc.append(acc.item())\n",
    "    avg_acc = np.mean(avg_acc)\n",
    "    print('Test Acc: {}'.format(avg_acc))\n",
    "\n",
    "    return avg_acc"
   ]
  },
  {
   "cell_type": "code",
   "execution_count": 169,
   "metadata": {},
   "outputs": [],
   "source": [
    "def eval(opt):\n",
    "    '''\n",
    "    Initialize everything and train\n",
    "    '''\n",
    "    options = get_parser().parse_args()\n",
    "\n",
    "    if torch.cuda.is_available() and not options.cuda:\n",
    "        print(\"WARNING: You have a CUDA device, so you should probably run with --cuda\")\n",
    "\n",
    "    init_seed(options)\n",
    "    test_dataloader = init_dataset(options)[-1]\n",
    "    model = init_protonet(options)\n",
    "    model_path = os.path.join(opt.experiment_root, 'best_model.pth')\n",
    "    model.load_state_dict(torch.load(model_path))\n",
    "\n",
    "    test(opt=options,\n",
    "         test_dataloader=test_dataloader,\n",
    "         model=model)"
   ]
  },
  {
   "cell_type": "markdown",
   "metadata": {},
   "source": [
    "## Main"
   ]
  },
  {
   "cell_type": "code",
   "execution_count": 170,
   "metadata": {},
   "outputs": [
    {
     "name": "stderr",
     "output_type": "stream",
     "text": [
      "/var/folders/px/2nlbn4cs2bbdd7cgvvptqfqc0000gn/T/ipykernel_5465/2916475382.py:45: DeprecationWarning: __array_wrap__ must accept context and return_scalar arguments (positionally) in the future. (Deprecated NumPy 2.0)\n",
      "  self.indexes[label_idx, np.where(np.isnan(self.indexes[label_idx]))[0][0]] = idx\n"
     ]
    },
    {
     "name": "stdout",
     "output_type": "stream",
     "text": [
      "=== Epoch: 0 ===\n"
     ]
    },
    {
     "name": "stderr",
     "output_type": "stream",
     "text": [
      "100%|██████████| 100/100 [00:05<00:00, 16.68it/s]\n"
     ]
    },
    {
     "name": "stdout",
     "output_type": "stream",
     "text": [
      "Avg Train Loss: 0.37538806080818177, Avg Train Acc: 0.8849999985098839\n",
      "Avg Val Loss: 0.15357030294835566, Avg Val Acc: 0.9523333275318145 (Best)\n",
      "=== Epoch: 1 ===\n"
     ]
    },
    {
     "name": "stderr",
     "output_type": "stream",
     "text": [
      "100%|██████████| 100/100 [00:05<00:00, 17.87it/s]\n"
     ]
    },
    {
     "name": "stdout",
     "output_type": "stream",
     "text": [
      "Avg Train Loss: 0.14774383271113037, Avg Train Acc: 0.9577999979257583\n",
      "Avg Val Loss: 0.11949118748307228, Avg Val Acc: 0.9643333315849304 (Best)\n",
      "=== Epoch: 2 ===\n"
     ]
    },
    {
     "name": "stderr",
     "output_type": "stream",
     "text": [
      "100%|██████████| 100/100 [00:05<00:00, 17.50it/s]\n"
     ]
    },
    {
     "name": "stdout",
     "output_type": "stream",
     "text": [
      "Avg Train Loss: 0.1148321739025414, Avg Train Acc: 0.9635999995470047\n",
      "Avg Val Loss: 0.08806222526356577, Avg Val Acc: 0.9716666686534882 (Best)\n",
      "=== Epoch: 3 ===\n"
     ]
    },
    {
     "name": "stderr",
     "output_type": "stream",
     "text": [
      "100%|██████████| 100/100 [00:06<00:00, 16.61it/s]\n"
     ]
    },
    {
     "name": "stdout",
     "output_type": "stream",
     "text": [
      "Avg Train Loss: 0.09008717717137188, Avg Train Acc: 0.9746000027656555\n",
      "Avg Val Loss: 0.0732528337277472, Avg Val Acc: 0.9774000066518783 (Best)\n",
      "=== Epoch: 4 ===\n"
     ]
    },
    {
     "name": "stderr",
     "output_type": "stream",
     "text": [
      "100%|██████████| 100/100 [00:06<00:00, 16.31it/s]\n"
     ]
    },
    {
     "name": "stdout",
     "output_type": "stream",
     "text": [
      "Avg Train Loss: 0.07801196894375607, Avg Train Acc: 0.975400002002716\n",
      "Avg Val Loss: 0.07448539647273719, Avg Val Acc: 0.9783333414793014 (Best)\n",
      "=== Epoch: 5 ===\n"
     ]
    },
    {
     "name": "stderr",
     "output_type": "stream",
     "text": [
      "100%|██████████| 100/100 [00:06<00:00, 16.62it/s]\n"
     ]
    },
    {
     "name": "stdout",
     "output_type": "stream",
     "text": [
      "Avg Train Loss: 0.06093825921649113, Avg Train Acc: 0.9812000012397766\n",
      "Avg Val Loss: 0.05909852617420256, Avg Val Acc: 0.9828666800260544 (Best)\n",
      "=== Epoch: 6 ===\n"
     ]
    },
    {
     "name": "stderr",
     "output_type": "stream",
     "text": [
      "100%|██████████| 100/100 [00:06<00:00, 16.51it/s]\n"
     ]
    },
    {
     "name": "stdout",
     "output_type": "stream",
     "text": [
      "Avg Train Loss: 0.05219377441331744, Avg Train Acc: 0.9850000041723251\n",
      "Avg Val Loss: 0.05817748484201729, Avg Val Acc: 0.9819333428144454 (Best: 0.9828666800260544)\n",
      "=== Epoch: 7 ===\n"
     ]
    },
    {
     "name": "stderr",
     "output_type": "stream",
     "text": [
      "100%|██████████| 100/100 [00:06<00:00, 16.51it/s]\n"
     ]
    },
    {
     "name": "stdout",
     "output_type": "stream",
     "text": [
      "Avg Train Loss: 0.050572655419819056, Avg Train Acc: 0.9848000019788742\n",
      "Avg Val Loss: 0.05743889353703707, Avg Val Acc: 0.9822666758298874 (Best: 0.9828666800260544)\n",
      "=== Epoch: 8 ===\n"
     ]
    },
    {
     "name": "stderr",
     "output_type": "stream",
     "text": [
      "100%|██████████| 100/100 [00:06<00:00, 16.32it/s]\n"
     ]
    },
    {
     "name": "stdout",
     "output_type": "stream",
     "text": [
      "Avg Train Loss: 0.04986234589479863, Avg Train Acc: 0.9848000049591065\n",
      "Avg Val Loss: 0.05634854425676167, Avg Val Acc: 0.9826666766405106 (Best: 0.9828666800260544)\n",
      "=== Epoch: 9 ===\n"
     ]
    },
    {
     "name": "stderr",
     "output_type": "stream",
     "text": [
      "100%|██████████| 100/100 [00:06<00:00, 16.08it/s]\n"
     ]
    },
    {
     "name": "stdout",
     "output_type": "stream",
     "text": [
      "Avg Train Loss: 0.05032035985030234, Avg Train Acc: 0.9856000030040741\n",
      "Avg Val Loss: 0.04737575580365956, Avg Val Acc: 0.9857333427667618 (Best)\n",
      "=== Epoch: 10 ===\n"
     ]
    },
    {
     "name": "stderr",
     "output_type": "stream",
     "text": [
      "100%|██████████| 100/100 [00:06<00:00, 16.27it/s]\n"
     ]
    },
    {
     "name": "stdout",
     "output_type": "stream",
     "text": [
      "Avg Train Loss: 0.04189329999848269, Avg Train Acc: 0.9866000044345856\n",
      "Avg Val Loss: 0.04994910188484937, Avg Val Acc: 0.9848000103235245 (Best: 0.9857333427667618)\n",
      "=== Epoch: 11 ===\n"
     ]
    },
    {
     "name": "stderr",
     "output_type": "stream",
     "text": [
      "100%|██████████| 100/100 [00:06<00:00, 16.09it/s]\n"
     ]
    },
    {
     "name": "stdout",
     "output_type": "stream",
     "text": [
      "Avg Train Loss: 0.03247046117117861, Avg Train Acc: 0.9900000041723251\n",
      "Avg Val Loss: 0.038936446863226594, Avg Val Acc: 0.9886000078916549 (Best)\n",
      "=== Epoch: 12 ===\n"
     ]
    },
    {
     "name": "stderr",
     "output_type": "stream",
     "text": [
      "100%|██████████| 100/100 [00:06<00:00, 16.08it/s]\n"
     ]
    },
    {
     "name": "stdout",
     "output_type": "stream",
     "text": [
      "Avg Train Loss: 0.0374110190581996, Avg Train Acc: 0.9864000052213668\n",
      "Avg Val Loss: 0.037543057138100265, Avg Val Acc: 0.9877333426475525 (Best: 0.9886000078916549)\n",
      "=== Epoch: 13 ===\n"
     ]
    },
    {
     "name": "stderr",
     "output_type": "stream",
     "text": [
      "100%|██████████| 100/100 [00:06<00:00, 16.00it/s]\n"
     ]
    },
    {
     "name": "stdout",
     "output_type": "stream",
     "text": [
      "Avg Train Loss: 0.03344263453909661, Avg Train Acc: 0.9888000017404557\n",
      "Avg Val Loss: 0.042535523870028555, Avg Val Acc: 0.9864000087976456 (Best: 0.9886000078916549)\n",
      "=== Epoch: 14 ===\n"
     ]
    },
    {
     "name": "stderr",
     "output_type": "stream",
     "text": [
      "100%|██████████| 100/100 [00:06<00:00, 16.02it/s]\n"
     ]
    },
    {
     "name": "stdout",
     "output_type": "stream",
     "text": [
      "Avg Train Loss: 0.030213657259009777, Avg Train Acc: 0.9892000043392182\n",
      "Avg Val Loss: 0.04130462871864438, Avg Val Acc: 0.9877333420515061 (Best: 0.9886000078916549)\n",
      "=== Epoch: 15 ===\n"
     ]
    },
    {
     "name": "stderr",
     "output_type": "stream",
     "text": [
      "100%|██████████| 100/100 [00:06<00:00, 15.87it/s]\n"
     ]
    },
    {
     "name": "stdout",
     "output_type": "stream",
     "text": [
      "Avg Train Loss: 0.033196386938216166, Avg Train Acc: 0.9902000051736831\n",
      "Avg Val Loss: 0.03638318148674444, Avg Val Acc: 0.9885333418846131 (Best: 0.9886000078916549)\n",
      "=== Epoch: 16 ===\n"
     ]
    },
    {
     "name": "stderr",
     "output_type": "stream",
     "text": [
      "100%|██████████| 100/100 [00:06<00:00, 16.03it/s]\n"
     ]
    },
    {
     "name": "stdout",
     "output_type": "stream",
     "text": [
      "Avg Train Loss: 0.03258218408620451, Avg Train Acc: 0.9896000057458878\n",
      "Avg Val Loss: 0.03900320981163532, Avg Val Acc: 0.9874000114202499 (Best: 0.9886000078916549)\n",
      "=== Epoch: 17 ===\n"
     ]
    },
    {
     "name": "stderr",
     "output_type": "stream",
     "text": [
      "100%|██████████| 100/100 [00:06<00:00, 15.83it/s]\n"
     ]
    },
    {
     "name": "stdout",
     "output_type": "stream",
     "text": [
      "Avg Train Loss: 0.03361670670565218, Avg Train Acc: 0.989400002360344\n",
      "Avg Val Loss: 0.03726123263128102, Avg Val Acc: 0.9884000086784362 (Best: 0.9886000078916549)\n",
      "=== Epoch: 18 ===\n"
     ]
    },
    {
     "name": "stderr",
     "output_type": "stream",
     "text": [
      "100%|██████████| 100/100 [00:06<00:00, 15.95it/s]\n"
     ]
    },
    {
     "name": "stdout",
     "output_type": "stream",
     "text": [
      "Avg Train Loss: 0.03496058371267281, Avg Train Acc: 0.9898000049591065\n",
      "Avg Val Loss: 0.03700151247205213, Avg Val Acc: 0.9880666762590409 (Best: 0.9886000078916549)\n",
      "=== Epoch: 19 ===\n"
     ]
    },
    {
     "name": "stderr",
     "output_type": "stream",
     "text": [
      "100%|██████████| 100/100 [00:06<00:00, 15.88it/s]\n"
     ]
    },
    {
     "name": "stdout",
     "output_type": "stream",
     "text": [
      "Avg Train Loss: 0.029083009551977738, Avg Train Acc: 0.9910000038146972\n",
      "Avg Val Loss: 0.038973888454493136, Avg Val Acc: 0.9884666758775711 (Best: 0.9886000078916549)\n",
      "=== Epoch: 20 ===\n"
     ]
    },
    {
     "name": "stderr",
     "output_type": "stream",
     "text": [
      "100%|██████████| 100/100 [00:06<00:00, 15.87it/s]\n"
     ]
    },
    {
     "name": "stdout",
     "output_type": "stream",
     "text": [
      "Avg Train Loss: 0.0260026766336523, Avg Train Acc: 0.9932000029087067\n",
      "Avg Val Loss: 0.03753422376466915, Avg Val Acc: 0.9890666747093201 (Best)\n",
      "=== Epoch: 21 ===\n"
     ]
    },
    {
     "name": "stderr",
     "output_type": "stream",
     "text": [
      "100%|██████████| 100/100 [00:06<00:00, 15.93it/s]\n"
     ]
    },
    {
     "name": "stdout",
     "output_type": "stream",
     "text": [
      "Avg Train Loss: 0.0239224280329654, Avg Train Acc: 0.9912000036239624\n",
      "Avg Val Loss: 0.03734288688283414, Avg Val Acc: 0.9886000102758408 (Best: 0.9890666747093201)\n",
      "=== Epoch: 22 ===\n"
     ]
    },
    {
     "name": "stderr",
     "output_type": "stream",
     "text": [
      "100%|██████████| 100/100 [00:06<00:00, 15.32it/s]\n"
     ]
    },
    {
     "name": "stdout",
     "output_type": "stream",
     "text": [
      "Avg Train Loss: 0.028228088106261567, Avg Train Acc: 0.9914000034332275\n",
      "Avg Val Loss: 0.0359619706729427, Avg Val Acc: 0.9896000093221664 (Best)\n",
      "=== Epoch: 23 ===\n"
     ]
    },
    {
     "name": "stderr",
     "output_type": "stream",
     "text": [
      "100%|██████████| 100/100 [00:06<00:00, 15.18it/s]\n"
     ]
    },
    {
     "name": "stdout",
     "output_type": "stream",
     "text": [
      "Avg Train Loss: 0.022334090240474325, Avg Train Acc: 0.9940000033378601\n",
      "Avg Val Loss: 0.040486655079294, Avg Val Acc: 0.9875333416461944 (Best: 0.9896000093221664)\n",
      "=== Epoch: 24 ===\n"
     ]
    },
    {
     "name": "stderr",
     "output_type": "stream",
     "text": [
      "100%|██████████| 100/100 [00:06<00:00, 14.56it/s]\n"
     ]
    },
    {
     "name": "stdout",
     "output_type": "stream",
     "text": [
      "Avg Train Loss: 0.027512855194800068, Avg Train Acc: 0.9902000027894974\n",
      "Avg Val Loss: 0.03650564960669726, Avg Val Acc: 0.989000009894371 (Best: 0.9896000093221664)\n",
      "=== Epoch: 25 ===\n"
     ]
    },
    {
     "name": "stderr",
     "output_type": "stream",
     "text": [
      "100%|██████████| 100/100 [00:07<00:00, 13.94it/s]\n"
     ]
    },
    {
     "name": "stdout",
     "output_type": "stream",
     "text": [
      "Avg Train Loss: 0.02187667185877217, Avg Train Acc: 0.9920000052452087\n",
      "Avg Val Loss: 0.03609162880806252, Avg Val Acc: 0.9900666761398316 (Best)\n",
      "=== Epoch: 26 ===\n"
     ]
    },
    {
     "name": "stderr",
     "output_type": "stream",
     "text": [
      "100%|██████████| 100/100 [00:07<00:00, 13.86it/s]\n"
     ]
    },
    {
     "name": "stdout",
     "output_type": "stream",
     "text": [
      "Avg Train Loss: 0.0228573844381026, Avg Train Acc: 0.9934000021219254\n",
      "Avg Val Loss: 0.036505518665071575, Avg Val Acc: 0.9891333431005478 (Best: 0.9900666761398316)\n",
      "=== Epoch: 27 ===\n"
     ]
    },
    {
     "name": "stderr",
     "output_type": "stream",
     "text": [
      "100%|██████████| 100/100 [00:07<00:00, 13.69it/s]\n"
     ]
    },
    {
     "name": "stdout",
     "output_type": "stream",
     "text": [
      "Avg Train Loss: 0.020586841105250643, Avg Train Acc: 0.9936000037193299\n",
      "Avg Val Loss: 0.0362423107214272, Avg Val Acc: 0.9876000088453293 (Best: 0.9900666761398316)\n",
      "=== Epoch: 28 ===\n"
     ]
    },
    {
     "name": "stderr",
     "output_type": "stream",
     "text": [
      "100%|██████████| 100/100 [00:07<00:00, 13.69it/s]\n"
     ]
    },
    {
     "name": "stdout",
     "output_type": "stream",
     "text": [
      "Avg Train Loss: 0.022251189568196425, Avg Train Acc: 0.9944000029563904\n",
      "Avg Val Loss: 0.03565525349695235, Avg Val Acc: 0.9892666751146316 (Best: 0.9900666761398316)\n",
      "=== Epoch: 29 ===\n"
     ]
    },
    {
     "name": "stderr",
     "output_type": "stream",
     "text": [
      "100%|██████████| 100/100 [00:07<00:00, 13.80it/s]\n"
     ]
    },
    {
     "name": "stdout",
     "output_type": "stream",
     "text": [
      "Avg Train Loss: 0.023181149529409594, Avg Train Acc: 0.9928000044822692\n",
      "Avg Val Loss: 0.03364387386478484, Avg Val Acc: 0.9902000081539154 (Best)\n",
      "=== Epoch: 30 ===\n"
     ]
    },
    {
     "name": "stderr",
     "output_type": "stream",
     "text": [
      "100%|██████████| 100/100 [00:07<00:00, 13.89it/s]\n"
     ]
    },
    {
     "name": "stdout",
     "output_type": "stream",
     "text": [
      "Avg Train Loss: 0.02081410959654022, Avg Train Acc: 0.9940000033378601\n",
      "Avg Val Loss: 0.03671442075748928, Avg Val Acc: 0.9887333405017853 (Best: 0.9902000081539154)\n",
      "=== Epoch: 31 ===\n"
     ]
    },
    {
     "name": "stderr",
     "output_type": "stream",
     "text": [
      "100%|██████████| 100/100 [00:07<00:00, 13.88it/s]\n"
     ]
    },
    {
     "name": "stdout",
     "output_type": "stream",
     "text": [
      "Avg Train Loss: 0.028669016208004904, Avg Train Acc: 0.9906000059843063\n",
      "Avg Val Loss: 0.031112320496467873, Avg Val Acc: 0.9900000083446503 (Best: 0.9902000081539154)\n",
      "=== Epoch: 32 ===\n"
     ]
    },
    {
     "name": "stderr",
     "output_type": "stream",
     "text": [
      "100%|██████████| 100/100 [00:07<00:00, 13.91it/s]\n"
     ]
    },
    {
     "name": "stdout",
     "output_type": "stream",
     "text": [
      "Avg Train Loss: 0.021271553812548517, Avg Train Acc: 0.9942000031471252\n",
      "Avg Val Loss: 0.03301438066875562, Avg Val Acc: 0.9900000083446503 (Best: 0.9902000081539154)\n",
      "=== Epoch: 33 ===\n"
     ]
    },
    {
     "name": "stderr",
     "output_type": "stream",
     "text": [
      "100%|██████████| 100/100 [00:07<00:00, 13.97it/s]\n"
     ]
    },
    {
     "name": "stdout",
     "output_type": "stream",
     "text": [
      "Avg Train Loss: 0.01833090859465301, Avg Train Acc: 0.9940000027418137\n",
      "Avg Val Loss: 0.03332835023291409, Avg Val Acc: 0.9891333413124085 (Best: 0.9902000081539154)\n",
      "=== Epoch: 34 ===\n"
     ]
    },
    {
     "name": "stderr",
     "output_type": "stream",
     "text": [
      "100%|██████████| 100/100 [00:07<00:00, 13.97it/s]\n"
     ]
    },
    {
     "name": "stdout",
     "output_type": "stream",
     "text": [
      "Avg Train Loss: 0.017585347725544126, Avg Train Acc: 0.994600003361702\n",
      "Avg Val Loss: 0.03260416953766253, Avg Val Acc: 0.9902000093460083 (Best)\n",
      "=== Epoch: 35 ===\n"
     ]
    },
    {
     "name": "stderr",
     "output_type": "stream",
     "text": [
      "100%|██████████| 100/100 [00:07<00:00, 13.77it/s]\n"
     ]
    },
    {
     "name": "stdout",
     "output_type": "stream",
     "text": [
      "Avg Train Loss: 0.01896239942725515, Avg Train Acc: 0.9942000037431717\n",
      "Avg Val Loss: 0.03099609230586793, Avg Val Acc: 0.9905333417654038 (Best)\n",
      "=== Epoch: 36 ===\n"
     ]
    },
    {
     "name": "stderr",
     "output_type": "stream",
     "text": [
      "100%|██████████| 100/100 [00:07<00:00, 13.62it/s]\n"
     ]
    },
    {
     "name": "stdout",
     "output_type": "stream",
     "text": [
      "Avg Train Loss: 0.01959901045440347, Avg Train Acc: 0.9942000043392182\n",
      "Avg Val Loss: 0.0322878025326645, Avg Val Acc: 0.9896000093221664 (Best: 0.9905333417654038)\n",
      "=== Epoch: 37 ===\n"
     ]
    },
    {
     "name": "stderr",
     "output_type": "stream",
     "text": [
      "100%|██████████| 100/100 [00:07<00:00, 13.29it/s]\n"
     ]
    },
    {
     "name": "stdout",
     "output_type": "stream",
     "text": [
      "Avg Train Loss: 0.01745674682446406, Avg Train Acc: 0.9942000031471252\n",
      "Avg Val Loss: 0.036172335697337986, Avg Val Acc: 0.988866674900055 (Best: 0.9905333417654038)\n",
      "=== Epoch: 38 ===\n"
     ]
    },
    {
     "name": "stderr",
     "output_type": "stream",
     "text": [
      "100%|██████████| 100/100 [00:07<00:00, 13.56it/s]\n"
     ]
    },
    {
     "name": "stdout",
     "output_type": "stream",
     "text": [
      "Avg Train Loss: 0.022583934711437905, Avg Train Acc: 0.993000003695488\n",
      "Avg Val Loss: 0.03469222995219752, Avg Val Acc: 0.9900000089406967 (Best: 0.9905333417654038)\n",
      "=== Epoch: 39 ===\n"
     ]
    },
    {
     "name": "stderr",
     "output_type": "stream",
     "text": [
      "100%|██████████| 100/100 [00:07<00:00, 13.60it/s]\n"
     ]
    },
    {
     "name": "stdout",
     "output_type": "stream",
     "text": [
      "Avg Train Loss: 0.016903526111855173, Avg Train Acc: 0.9936000055074692\n",
      "Avg Val Loss: 0.035430996294599025, Avg Val Acc: 0.9891333425045014 (Best: 0.9905333417654038)\n",
      "=== Epoch: 40 ===\n"
     ]
    },
    {
     "name": "stderr",
     "output_type": "stream",
     "text": [
      "100%|██████████| 100/100 [00:07<00:00, 13.66it/s]\n"
     ]
    },
    {
     "name": "stdout",
     "output_type": "stream",
     "text": [
      "Avg Train Loss: 0.01853230343956966, Avg Train Acc: 0.9938000047206879\n",
      "Avg Val Loss: 0.03039846663363278, Avg Val Acc: 0.9906000077724457 (Best)\n",
      "=== Epoch: 41 ===\n"
     ]
    },
    {
     "name": "stderr",
     "output_type": "stream",
     "text": [
      "100%|██████████| 100/100 [00:07<00:00, 13.79it/s]\n"
     ]
    },
    {
     "name": "stdout",
     "output_type": "stream",
     "text": [
      "Avg Train Loss: 0.014616104190645273, Avg Train Acc: 0.9960000032186508\n",
      "Avg Val Loss: 0.03329846137203276, Avg Val Acc: 0.9898000079393386 (Best: 0.9906000077724457)\n",
      "=== Epoch: 42 ===\n"
     ]
    },
    {
     "name": "stderr",
     "output_type": "stream",
     "text": [
      "100%|██████████| 100/100 [00:07<00:00, 13.76it/s]\n"
     ]
    },
    {
     "name": "stdout",
     "output_type": "stream",
     "text": [
      "Avg Train Loss: 0.01717648416321026, Avg Train Acc: 0.9944000053405762\n",
      "Avg Val Loss: 0.03575361039256677, Avg Val Acc: 0.9888666766881943 (Best: 0.9906000077724457)\n",
      "=== Epoch: 43 ===\n"
     ]
    },
    {
     "name": "stderr",
     "output_type": "stream",
     "text": [
      "100%|██████████| 100/100 [00:07<00:00, 13.69it/s]\n"
     ]
    },
    {
     "name": "stdout",
     "output_type": "stream",
     "text": [
      "Avg Train Loss: 0.016005469145311507, Avg Train Acc: 0.9946000039577484\n",
      "Avg Val Loss: 0.03380170666321646, Avg Val Acc: 0.9902666753530502 (Best: 0.9906000077724457)\n",
      "=== Epoch: 44 ===\n"
     ]
    },
    {
     "name": "stderr",
     "output_type": "stream",
     "text": [
      "100%|██████████| 100/100 [00:07<00:00, 13.91it/s]\n"
     ]
    },
    {
     "name": "stdout",
     "output_type": "stream",
     "text": [
      "Avg Train Loss: 0.022299177625100128, Avg Train Acc: 0.9924000054597855\n",
      "Avg Val Loss: 0.031183116061147303, Avg Val Acc: 0.9904000079631805 (Best: 0.9906000077724457)\n",
      "=== Epoch: 45 ===\n"
     ]
    },
    {
     "name": "stderr",
     "output_type": "stream",
     "text": [
      "100%|██████████| 100/100 [00:07<00:00, 13.15it/s]\n"
     ]
    },
    {
     "name": "stdout",
     "output_type": "stream",
     "text": [
      "Avg Train Loss: 0.021664348355698165, Avg Train Acc: 0.9930000048875809\n",
      "Avg Val Loss: 0.03197261670371518, Avg Val Acc: 0.9900000083446503 (Best: 0.9906000077724457)\n",
      "=== Epoch: 46 ===\n"
     ]
    },
    {
     "name": "stderr",
     "output_type": "stream",
     "text": [
      "100%|██████████| 100/100 [00:07<00:00, 13.66it/s]\n"
     ]
    },
    {
     "name": "stdout",
     "output_type": "stream",
     "text": [
      "Avg Train Loss: 0.016859175208956002, Avg Train Acc: 0.9952000033855438\n",
      "Avg Val Loss: 0.033775165827246385, Avg Val Acc: 0.9902000093460083 (Best: 0.9906000077724457)\n",
      "=== Epoch: 47 ===\n"
     ]
    },
    {
     "name": "stderr",
     "output_type": "stream",
     "text": [
      "100%|██████████| 100/100 [00:07<00:00, 13.27it/s]\n"
     ]
    },
    {
     "name": "stdout",
     "output_type": "stream",
     "text": [
      "Avg Train Loss: 0.02171621740271803, Avg Train Acc: 0.993800003528595\n",
      "Avg Val Loss: 0.029386892458423974, Avg Val Acc: 0.9899333423376083 (Best: 0.9906000077724457)\n",
      "=== Epoch: 48 ===\n"
     ]
    },
    {
     "name": "stderr",
     "output_type": "stream",
     "text": [
      "100%|██████████| 100/100 [00:07<00:00, 13.59it/s]\n"
     ]
    },
    {
     "name": "stdout",
     "output_type": "stream",
     "text": [
      "Avg Train Loss: 0.027638517509185476, Avg Train Acc: 0.9908000016212464\n",
      "Avg Val Loss: 0.03273546903161332, Avg Val Acc: 0.9894666761159897 (Best: 0.9906000077724457)\n",
      "=== Epoch: 49 ===\n"
     ]
    },
    {
     "name": "stderr",
     "output_type": "stream",
     "text": [
      "100%|██████████| 100/100 [00:07<00:00, 13.16it/s]\n"
     ]
    },
    {
     "name": "stdout",
     "output_type": "stream",
     "text": [
      "Avg Train Loss: 0.019008346867631188, Avg Train Acc: 0.9932000011205673\n",
      "Avg Val Loss: 0.031165329485666006, Avg Val Acc: 0.9903333419561386 (Best: 0.9906000077724457)\n",
      "=== Epoch: 50 ===\n"
     ]
    },
    {
     "name": "stderr",
     "output_type": "stream",
     "text": [
      "100%|██████████| 100/100 [00:07<00:00, 13.42it/s]\n"
     ]
    },
    {
     "name": "stdout",
     "output_type": "stream",
     "text": [
      "Avg Train Loss: 0.020928624814841895, Avg Train Acc: 0.9928000050783158\n",
      "Avg Val Loss: 0.04010365942958742, Avg Val Acc: 0.9882666766643524 (Best: 0.9906000077724457)\n",
      "=== Epoch: 51 ===\n"
     ]
    },
    {
     "name": "stderr",
     "output_type": "stream",
     "text": [
      "100%|██████████| 100/100 [00:07<00:00, 13.52it/s]\n"
     ]
    },
    {
     "name": "stdout",
     "output_type": "stream",
     "text": [
      "Avg Train Loss: 0.017278340535704047, Avg Train Acc: 0.9950000035762787\n",
      "Avg Val Loss: 0.03008714960073121, Avg Val Acc: 0.9904000061750412 (Best: 0.9906000077724457)\n",
      "=== Epoch: 52 ===\n"
     ]
    },
    {
     "name": "stderr",
     "output_type": "stream",
     "text": [
      "100%|██████████| 100/100 [00:07<00:00, 13.52it/s]\n"
     ]
    },
    {
     "name": "stdout",
     "output_type": "stream",
     "text": [
      "Avg Train Loss: 0.016841657246113754, Avg Train Acc: 0.9940000033378601\n",
      "Avg Val Loss: 0.033112214339198545, Avg Val Acc: 0.9896000075340271 (Best: 0.9906000077724457)\n",
      "=== Epoch: 53 ===\n"
     ]
    },
    {
     "name": "stderr",
     "output_type": "stream",
     "text": [
      "100%|██████████| 100/100 [00:07<00:00, 13.57it/s]\n"
     ]
    },
    {
     "name": "stdout",
     "output_type": "stream",
     "text": [
      "Avg Train Loss: 0.024652949145820457, Avg Train Acc: 0.9926000022888184\n",
      "Avg Val Loss: 0.03780439976952039, Avg Val Acc: 0.98933334171772 (Best: 0.9906000077724457)\n",
      "=== Epoch: 54 ===\n"
     ]
    },
    {
     "name": "stderr",
     "output_type": "stream",
     "text": [
      "100%|██████████| 100/100 [00:07<00:00, 13.54it/s]\n"
     ]
    },
    {
     "name": "stdout",
     "output_type": "stream",
     "text": [
      "Avg Train Loss: 0.016634009507542943, Avg Train Acc: 0.993800003528595\n",
      "Avg Val Loss: 0.032287177031394096, Avg Val Acc: 0.9904000085592269 (Best: 0.9906000077724457)\n",
      "=== Epoch: 55 ===\n"
     ]
    },
    {
     "name": "stderr",
     "output_type": "stream",
     "text": [
      "100%|██████████| 100/100 [00:07<00:00, 13.47it/s]\n"
     ]
    },
    {
     "name": "stdout",
     "output_type": "stream",
     "text": [
      "Avg Train Loss: 0.01354089203319745, Avg Train Acc: 0.9954000037908554\n",
      "Avg Val Loss: 0.03144391048001125, Avg Val Acc: 0.9902000087499618 (Best: 0.9906000077724457)\n",
      "=== Epoch: 56 ===\n"
     ]
    },
    {
     "name": "stderr",
     "output_type": "stream",
     "text": [
      "100%|██████████| 100/100 [00:07<00:00, 13.46it/s]\n"
     ]
    },
    {
     "name": "stdout",
     "output_type": "stream",
     "text": [
      "Avg Train Loss: 0.016655972014705187, Avg Train Acc: 0.9952000033855438\n",
      "Avg Val Loss: 0.0366603053943254, Avg Val Acc: 0.9887333416938782 (Best: 0.9906000077724457)\n",
      "=== Epoch: 57 ===\n"
     ]
    },
    {
     "name": "stderr",
     "output_type": "stream",
     "text": [
      "100%|██████████| 100/100 [00:07<00:00, 13.39it/s]\n"
     ]
    },
    {
     "name": "stdout",
     "output_type": "stream",
     "text": [
      "Avg Train Loss: 0.015363802319625393, Avg Train Acc: 0.9948000031709671\n",
      "Avg Val Loss: 0.03573351338563953, Avg Val Acc: 0.9899333423376083 (Best: 0.9906000077724457)\n",
      "=== Epoch: 58 ===\n"
     ]
    },
    {
     "name": "stderr",
     "output_type": "stream",
     "text": [
      "100%|██████████| 100/100 [00:07<00:00, 13.47it/s]\n"
     ]
    },
    {
     "name": "stdout",
     "output_type": "stream",
     "text": [
      "Avg Train Loss: 0.019400538633635733, Avg Train Acc: 0.9938000053167343\n",
      "Avg Val Loss: 0.03132109374506399, Avg Val Acc: 0.9898000079393386 (Best: 0.9906000077724457)\n",
      "=== Epoch: 59 ===\n"
     ]
    },
    {
     "name": "stderr",
     "output_type": "stream",
     "text": [
      "100%|██████████| 100/100 [00:07<00:00, 13.36it/s]\n"
     ]
    },
    {
     "name": "stdout",
     "output_type": "stream",
     "text": [
      "Avg Train Loss: 0.017729877964884507, Avg Train Acc: 0.9946000039577484\n",
      "Avg Val Loss: 0.029375587991671635, Avg Val Acc: 0.9905333417654038 (Best: 0.9906000077724457)\n",
      "=== Epoch: 60 ===\n"
     ]
    },
    {
     "name": "stderr",
     "output_type": "stream",
     "text": [
      "100%|██████████| 100/100 [00:07<00:00, 13.06it/s]\n"
     ]
    },
    {
     "name": "stdout",
     "output_type": "stream",
     "text": [
      "Avg Train Loss: 0.016496972370368894, Avg Train Acc: 0.9954000037908554\n",
      "Avg Val Loss: 0.036216983153717595, Avg Val Acc: 0.9897333419322968 (Best: 0.9906000077724457)\n",
      "=== Epoch: 61 ===\n"
     ]
    },
    {
     "name": "stderr",
     "output_type": "stream",
     "text": [
      "100%|██████████| 100/100 [00:07<00:00, 13.30it/s]\n"
     ]
    },
    {
     "name": "stdout",
     "output_type": "stream",
     "text": [
      "Avg Train Loss: 0.016345261941605713, Avg Train Acc: 0.9946000027656555\n",
      "Avg Val Loss: 0.03471692246734165, Avg Val Acc: 0.9891333431005478 (Best: 0.9906000077724457)\n",
      "=== Epoch: 62 ===\n"
     ]
    },
    {
     "name": "stderr",
     "output_type": "stream",
     "text": [
      "100%|██████████| 100/100 [00:07<00:00, 13.23it/s]\n"
     ]
    },
    {
     "name": "stdout",
     "output_type": "stream",
     "text": [
      "Avg Train Loss: 0.013473949277831708, Avg Train Acc: 0.9958000040054321\n",
      "Avg Val Loss: 0.037638716627843675, Avg Val Acc: 0.9888000094890594 (Best: 0.9906000077724457)\n",
      "=== Epoch: 63 ===\n"
     ]
    },
    {
     "name": "stderr",
     "output_type": "stream",
     "text": [
      "100%|██████████| 100/100 [00:07<00:00, 13.27it/s]\n"
     ]
    },
    {
     "name": "stdout",
     "output_type": "stream",
     "text": [
      "Avg Train Loss: 0.016560708753240762, Avg Train Acc: 0.9952000039815903\n",
      "Avg Val Loss: 0.03258773893816397, Avg Val Acc: 0.9900000089406967 (Best: 0.9906000077724457)\n",
      "=== Epoch: 64 ===\n"
     ]
    },
    {
     "name": "stderr",
     "output_type": "stream",
     "text": [
      "100%|██████████| 100/100 [00:07<00:00, 13.22it/s]\n"
     ]
    },
    {
     "name": "stdout",
     "output_type": "stream",
     "text": [
      "Avg Train Loss: 0.027041645281715317, Avg Train Acc: 0.992600005865097\n",
      "Avg Val Loss: 0.032871012804098425, Avg Val Acc: 0.9900666761398316 (Best: 0.9906000077724457)\n",
      "=== Epoch: 65 ===\n"
     ]
    },
    {
     "name": "stderr",
     "output_type": "stream",
     "text": [
      "100%|██████████| 100/100 [00:07<00:00, 13.12it/s]\n"
     ]
    },
    {
     "name": "stdout",
     "output_type": "stream",
     "text": [
      "Avg Train Loss: 0.02322936661686981, Avg Train Acc: 0.9936000037193299\n",
      "Avg Val Loss: 0.03304543719859794, Avg Val Acc: 0.9899333423376083 (Best: 0.9906000077724457)\n",
      "=== Epoch: 66 ===\n"
     ]
    },
    {
     "name": "stderr",
     "output_type": "stream",
     "text": [
      "100%|██████████| 100/100 [00:07<00:00, 13.26it/s]\n"
     ]
    },
    {
     "name": "stdout",
     "output_type": "stream",
     "text": [
      "Avg Train Loss: 0.013016299995651934, Avg Train Acc: 0.9964000028371811\n",
      "Avg Val Loss: 0.038467628348153086, Avg Val Acc: 0.9886666756868362 (Best: 0.9906000077724457)\n",
      "=== Epoch: 67 ===\n"
     ]
    },
    {
     "name": "stderr",
     "output_type": "stream",
     "text": [
      "100%|██████████| 100/100 [00:07<00:00, 12.68it/s]\n"
     ]
    },
    {
     "name": "stdout",
     "output_type": "stream",
     "text": [
      "Avg Train Loss: 0.03028986938916205, Avg Train Acc: 0.9920000034570694\n",
      "Avg Val Loss: 0.03122167612076737, Avg Val Acc: 0.9896666765213012 (Best: 0.9906000077724457)\n",
      "=== Epoch: 68 ===\n"
     ]
    },
    {
     "name": "stderr",
     "output_type": "stream",
     "text": [
      "100%|██████████| 100/100 [00:07<00:00, 13.26it/s]\n"
     ]
    },
    {
     "name": "stdout",
     "output_type": "stream",
     "text": [
      "Avg Train Loss: 0.023973314728646073, Avg Train Acc: 0.993000002503395\n",
      "Avg Val Loss: 0.028593723851954564, Avg Val Acc: 0.9909333407878875 (Best)\n",
      "=== Epoch: 69 ===\n"
     ]
    },
    {
     "name": "stderr",
     "output_type": "stream",
     "text": [
      "100%|██████████| 100/100 [00:07<00:00, 13.28it/s]\n"
     ]
    },
    {
     "name": "stdout",
     "output_type": "stream",
     "text": [
      "Avg Train Loss: 0.01565402466148953, Avg Train Acc: 0.9964000028371811\n",
      "Avg Val Loss: 0.03516334226937033, Avg Val Acc: 0.989400007724762 (Best: 0.9909333407878875)\n",
      "=== Epoch: 70 ===\n"
     ]
    },
    {
     "name": "stderr",
     "output_type": "stream",
     "text": [
      "100%|██████████| 100/100 [00:07<00:00, 13.23it/s]\n"
     ]
    },
    {
     "name": "stdout",
     "output_type": "stream",
     "text": [
      "Avg Train Loss: 0.015792986394953915, Avg Train Acc: 0.9950000011920929\n",
      "Avg Val Loss: 0.031228403278510085, Avg Val Acc: 0.989866674542427 (Best: 0.9909333407878875)\n",
      "=== Epoch: 71 ===\n"
     ]
    },
    {
     "name": "stderr",
     "output_type": "stream",
     "text": [
      "100%|██████████| 100/100 [00:07<00:00, 13.18it/s]\n"
     ]
    },
    {
     "name": "stdout",
     "output_type": "stream",
     "text": [
      "Avg Train Loss: 0.020167196741094812, Avg Train Acc: 0.994600003361702\n",
      "Avg Val Loss: 0.03525090307695791, Avg Val Acc: 0.98960000872612 (Best: 0.9909333407878875)\n",
      "=== Epoch: 72 ===\n"
     ]
    },
    {
     "name": "stderr",
     "output_type": "stream",
     "text": [
      "100%|██████████| 100/100 [00:07<00:00, 13.22it/s]\n"
     ]
    },
    {
     "name": "stdout",
     "output_type": "stream",
     "text": [
      "Avg Train Loss: 0.015984161420783495, Avg Train Acc: 0.9946000039577484\n",
      "Avg Val Loss: 0.033430548858013935, Avg Val Acc: 0.9898666763305664 (Best: 0.9909333407878875)\n",
      "=== Epoch: 73 ===\n"
     ]
    },
    {
     "name": "stderr",
     "output_type": "stream",
     "text": [
      "100%|██████████| 100/100 [00:07<00:00, 13.27it/s]\n"
     ]
    },
    {
     "name": "stdout",
     "output_type": "stream",
     "text": [
      "Avg Train Loss: 0.02397344428973156, Avg Train Acc: 0.9926000022888184\n",
      "Avg Val Loss: 0.03487944740452804, Avg Val Acc: 0.9898000097274781 (Best: 0.9909333407878875)\n",
      "=== Epoch: 74 ===\n"
     ]
    },
    {
     "name": "stderr",
     "output_type": "stream",
     "text": [
      "100%|██████████| 100/100 [00:07<00:00, 13.06it/s]\n"
     ]
    },
    {
     "name": "stdout",
     "output_type": "stream",
     "text": [
      "Avg Train Loss: 0.01310203179011296, Avg Train Acc: 0.9956000018119812\n",
      "Avg Val Loss: 0.03489511401392519, Avg Val Acc: 0.9896666747331619 (Best: 0.9909333407878875)\n",
      "=== Epoch: 75 ===\n"
     ]
    },
    {
     "name": "stderr",
     "output_type": "stream",
     "text": [
      "100%|██████████| 100/100 [00:07<00:00, 13.15it/s]\n"
     ]
    },
    {
     "name": "stdout",
     "output_type": "stream",
     "text": [
      "Avg Train Loss: 0.017376559459953568, Avg Train Acc: 0.9936000037193299\n",
      "Avg Val Loss: 0.03921316048828885, Avg Val Acc: 0.9880666762590409 (Best: 0.9909333407878875)\n",
      "=== Epoch: 76 ===\n"
     ]
    },
    {
     "name": "stderr",
     "output_type": "stream",
     "text": [
      "100%|██████████| 100/100 [00:07<00:00, 13.17it/s]\n"
     ]
    },
    {
     "name": "stdout",
     "output_type": "stream",
     "text": [
      "Avg Train Loss: 0.02402398344274843, Avg Train Acc: 0.9926000040769577\n",
      "Avg Val Loss: 0.03432234412524849, Avg Val Acc: 0.9905333405733109 (Best: 0.9909333407878875)\n",
      "=== Epoch: 77 ===\n"
     ]
    },
    {
     "name": "stderr",
     "output_type": "stream",
     "text": [
      "100%|██████████| 100/100 [00:07<00:00, 13.24it/s]\n"
     ]
    },
    {
     "name": "stdout",
     "output_type": "stream",
     "text": [
      "Avg Train Loss: 0.0196488161716843, Avg Train Acc: 0.9932000041007996\n",
      "Avg Val Loss: 0.03487607015646063, Avg Val Acc: 0.9894666755199433 (Best: 0.9909333407878875)\n",
      "=== Epoch: 78 ===\n"
     ]
    },
    {
     "name": "stderr",
     "output_type": "stream",
     "text": [
      "100%|██████████| 100/100 [00:07<00:00, 13.19it/s]\n"
     ]
    },
    {
     "name": "stdout",
     "output_type": "stream",
     "text": [
      "Avg Train Loss: 0.02149596988572739, Avg Train Acc: 0.9932000041007996\n",
      "Avg Val Loss: 0.03539330109488219, Avg Val Acc: 0.9896666765213012 (Best: 0.9909333407878875)\n",
      "=== Epoch: 79 ===\n"
     ]
    },
    {
     "name": "stderr",
     "output_type": "stream",
     "text": [
      "100%|██████████| 100/100 [00:07<00:00, 13.15it/s]\n"
     ]
    },
    {
     "name": "stdout",
     "output_type": "stream",
     "text": [
      "Avg Train Loss: 0.01884555257347529, Avg Train Acc: 0.9942000031471252\n",
      "Avg Val Loss: 0.029976164302788676, Avg Val Acc: 0.9910666751861572 (Best)\n",
      "=== Epoch: 80 ===\n"
     ]
    },
    {
     "name": "stderr",
     "output_type": "stream",
     "text": [
      "100%|██████████| 100/100 [00:07<00:00, 12.81it/s]\n"
     ]
    },
    {
     "name": "stdout",
     "output_type": "stream",
     "text": [
      "Avg Train Loss: 0.0156311536609428, Avg Train Acc: 0.9952000033855438\n",
      "Avg Val Loss: 0.027415745502803474, Avg Val Acc: 0.9909333419799805 (Best: 0.9910666751861572)\n",
      "=== Epoch: 81 ===\n"
     ]
    },
    {
     "name": "stderr",
     "output_type": "stream",
     "text": [
      "100%|██████████| 100/100 [00:07<00:00, 13.21it/s]\n"
     ]
    },
    {
     "name": "stdout",
     "output_type": "stream",
     "text": [
      "Avg Train Loss: 0.017039790861163057, Avg Train Acc: 0.9946000039577484\n",
      "Avg Val Loss: 0.03629225825658068, Avg Val Acc: 0.9886666762828827 (Best: 0.9910666751861572)\n",
      "=== Epoch: 82 ===\n"
     ]
    },
    {
     "name": "stderr",
     "output_type": "stream",
     "text": [
      "100%|██████████| 100/100 [00:07<00:00, 13.12it/s]\n"
     ]
    },
    {
     "name": "stdout",
     "output_type": "stream",
     "text": [
      "Avg Train Loss: 0.01977967315760907, Avg Train Acc: 0.9934000033140182\n",
      "Avg Val Loss: 0.03258276900276542, Avg Val Acc: 0.9901333421468734 (Best: 0.9910666751861572)\n",
      "=== Epoch: 83 ===\n"
     ]
    },
    {
     "name": "stderr",
     "output_type": "stream",
     "text": [
      "100%|██████████| 100/100 [00:07<00:00, 13.14it/s]\n"
     ]
    },
    {
     "name": "stdout",
     "output_type": "stream",
     "text": [
      "Avg Train Loss: 0.020963473172450904, Avg Train Acc: 0.9946000045537948\n",
      "Avg Val Loss: 0.03113399632915389, Avg Val Acc: 0.9909333407878875 (Best: 0.9910666751861572)\n",
      "=== Epoch: 84 ===\n"
     ]
    },
    {
     "name": "stderr",
     "output_type": "stream",
     "text": [
      "100%|██████████| 100/100 [00:07<00:00, 13.02it/s]\n"
     ]
    },
    {
     "name": "stdout",
     "output_type": "stream",
     "text": [
      "Avg Train Loss: 0.0154834746956476, Avg Train Acc: 0.9960000032186508\n",
      "Avg Val Loss: 0.0344839121226687, Avg Val Acc: 0.9894666737318039 (Best: 0.9910666751861572)\n",
      "=== Epoch: 85 ===\n"
     ]
    },
    {
     "name": "stderr",
     "output_type": "stream",
     "text": [
      "100%|██████████| 100/100 [00:07<00:00, 13.21it/s]\n"
     ]
    },
    {
     "name": "stdout",
     "output_type": "stream",
     "text": [
      "Avg Train Loss: 0.016312370292434934, Avg Train Acc: 0.9944000035524369\n",
      "Avg Val Loss: 0.03578985395375639, Avg Val Acc: 0.9887333416938782 (Best: 0.9910666751861572)\n",
      "=== Epoch: 86 ===\n"
     ]
    },
    {
     "name": "stderr",
     "output_type": "stream",
     "text": [
      "100%|██████████| 100/100 [00:07<00:00, 12.64it/s]\n"
     ]
    },
    {
     "name": "stdout",
     "output_type": "stream",
     "text": [
      "Avg Train Loss: 0.019796062581881414, Avg Train Acc: 0.994400001168251\n",
      "Avg Val Loss: 0.03445258394465782, Avg Val Acc: 0.9899333411455155 (Best: 0.9910666751861572)\n",
      "=== Epoch: 87 ===\n"
     ]
    },
    {
     "name": "stderr",
     "output_type": "stream",
     "text": [
      "100%|██████████| 100/100 [00:07<00:00, 12.88it/s]\n"
     ]
    },
    {
     "name": "stdout",
     "output_type": "stream",
     "text": [
      "Avg Train Loss: 0.02301538872430683, Avg Train Acc: 0.9924000036716462\n",
      "Avg Val Loss: 0.035774587916675954, Avg Val Acc: 0.9904666745662689 (Best: 0.9910666751861572)\n",
      "=== Epoch: 88 ===\n"
     ]
    },
    {
     "name": "stderr",
     "output_type": "stream",
     "text": [
      "100%|██████████| 100/100 [00:08<00:00, 12.19it/s]\n"
     ]
    },
    {
     "name": "stdout",
     "output_type": "stream",
     "text": [
      "Avg Train Loss: 0.020630225687345956, Avg Train Acc: 0.994000004529953\n",
      "Avg Val Loss: 0.03445123116369359, Avg Val Acc: 0.9902666753530502 (Best: 0.9910666751861572)\n",
      "=== Epoch: 89 ===\n"
     ]
    },
    {
     "name": "stderr",
     "output_type": "stream",
     "text": [
      "100%|██████████| 100/100 [00:08<00:00, 11.24it/s]\n"
     ]
    },
    {
     "name": "stdout",
     "output_type": "stream",
     "text": [
      "Avg Train Loss: 0.017837172664585524, Avg Train Acc: 0.9944000029563904\n",
      "Avg Val Loss: 0.03231161429779604, Avg Val Acc: 0.9900666755437851 (Best: 0.9910666751861572)\n",
      "=== Epoch: 90 ===\n"
     ]
    },
    {
     "name": "stderr",
     "output_type": "stream",
     "text": [
      "100%|██████████| 100/100 [00:09<00:00, 10.65it/s]\n"
     ]
    },
    {
     "name": "stdout",
     "output_type": "stream",
     "text": [
      "Avg Train Loss: 0.014567599253350636, Avg Train Acc: 0.9950000035762787\n",
      "Avg Val Loss: 0.03286298960214481, Avg Val Acc: 0.9904666751623153 (Best: 0.9910666751861572)\n",
      "=== Epoch: 91 ===\n"
     ]
    },
    {
     "name": "stderr",
     "output_type": "stream",
     "text": [
      "100%|██████████| 100/100 [00:09<00:00, 10.35it/s]\n"
     ]
    },
    {
     "name": "stdout",
     "output_type": "stream",
     "text": [
      "Avg Train Loss: 0.017251073194202035, Avg Train Acc: 0.9956000036001206\n",
      "Avg Val Loss: 0.035503057786263524, Avg Val Acc: 0.9895333433151245 (Best: 0.9910666751861572)\n",
      "=== Epoch: 92 ===\n"
     ]
    },
    {
     "name": "stderr",
     "output_type": "stream",
     "text": [
      "100%|██████████| 100/100 [00:09<00:00, 10.86it/s]\n"
     ]
    },
    {
     "name": "stdout",
     "output_type": "stream",
     "text": [
      "Avg Train Loss: 0.01851647011615569, Avg Train Acc: 0.9946000027656555\n",
      "Avg Val Loss: 0.035771236405707896, Avg Val Acc: 0.9892000079154968 (Best: 0.9910666751861572)\n",
      "=== Epoch: 93 ===\n"
     ]
    },
    {
     "name": "stderr",
     "output_type": "stream",
     "text": [
      "100%|██████████| 100/100 [00:08<00:00, 11.17it/s]\n"
     ]
    },
    {
     "name": "stdout",
     "output_type": "stream",
     "text": [
      "Avg Train Loss: 0.014174051683803555, Avg Train Acc: 0.9950000029802323\n",
      "Avg Val Loss: 0.03660018763039261, Avg Val Acc: 0.9885333436727524 (Best: 0.9910666751861572)\n",
      "=== Epoch: 94 ===\n"
     ]
    },
    {
     "name": "stderr",
     "output_type": "stream",
     "text": [
      "100%|██████████| 100/100 [00:08<00:00, 11.34it/s]\n"
     ]
    },
    {
     "name": "stdout",
     "output_type": "stream",
     "text": [
      "Avg Train Loss: 0.017374038665147962, Avg Train Acc: 0.9950000029802323\n",
      "Avg Val Loss: 0.04081790054158773, Avg Val Acc: 0.988333342075348 (Best: 0.9910666751861572)\n",
      "=== Epoch: 95 ===\n"
     ]
    },
    {
     "name": "stderr",
     "output_type": "stream",
     "text": [
      "100%|██████████| 100/100 [00:08<00:00, 11.77it/s]\n"
     ]
    },
    {
     "name": "stdout",
     "output_type": "stream",
     "text": [
      "Avg Train Loss: 0.020097161733574467, Avg Train Acc: 0.9928000009059906\n",
      "Avg Val Loss: 0.036221984941512346, Avg Val Acc: 0.990733340382576 (Best: 0.9910666751861572)\n",
      "=== Epoch: 96 ===\n"
     ]
    },
    {
     "name": "stderr",
     "output_type": "stream",
     "text": [
      "100%|██████████| 100/100 [00:08<00:00, 11.75it/s]\n"
     ]
    },
    {
     "name": "stdout",
     "output_type": "stream",
     "text": [
      "Avg Train Loss: 0.016146456420829056, Avg Train Acc: 0.9950000047683716\n",
      "Avg Val Loss: 0.03440939699066803, Avg Val Acc: 0.9884666758775711 (Best: 0.9910666751861572)\n",
      "=== Epoch: 97 ===\n"
     ]
    },
    {
     "name": "stderr",
     "output_type": "stream",
     "text": [
      "100%|██████████| 100/100 [00:08<00:00, 11.40it/s]\n"
     ]
    },
    {
     "name": "stdout",
     "output_type": "stream",
     "text": [
      "Avg Train Loss: 0.022074933593394234, Avg Train Acc: 0.9938000029325486\n",
      "Avg Val Loss: 0.02928919068304822, Avg Val Acc: 0.9906666749715805 (Best: 0.9910666751861572)\n",
      "=== Epoch: 98 ===\n"
     ]
    },
    {
     "name": "stderr",
     "output_type": "stream",
     "text": [
      "100%|██████████| 100/100 [00:08<00:00, 11.71it/s]\n"
     ]
    },
    {
     "name": "stdout",
     "output_type": "stream",
     "text": [
      "Avg Train Loss: 0.015599411552684614, Avg Train Acc: 0.9942000049352646\n",
      "Avg Val Loss: 0.028951263016788287, Avg Val Acc: 0.9902666741609574 (Best: 0.9910666751861572)\n",
      "=== Epoch: 99 ===\n"
     ]
    },
    {
     "name": "stderr",
     "output_type": "stream",
     "text": [
      "100%|██████████| 100/100 [00:08<00:00, 11.81it/s]\n"
     ]
    },
    {
     "name": "stdout",
     "output_type": "stream",
     "text": [
      "Avg Train Loss: 0.01962986418759101, Avg Train Acc: 0.9960000038146972\n",
      "Avg Val Loss: 0.029075728124007584, Avg Val Acc: 0.9906000083684922 (Best: 0.9910666751861572)\n",
      "Testing with last model..\n",
      "Test Acc: 0.9895600086450577\n",
      "Testing with best model..\n",
      "Test Acc: 0.9900600084066391\n"
     ]
    },
    {
     "data": {
      "text/plain": [
       "np.float64(0.9900600084066391)"
      ]
     },
     "execution_count": 170,
     "metadata": {},
     "output_type": "execute_result"
    }
   ],
   "source": [
    "import os\n",
    "import sys\n",
    "import torch\n",
    "\n",
    "options = get_parser().parse_args()\n",
    "if not os.path.exists(options.experiment_root):\n",
    "    os.makedirs(options.experiment_root)\n",
    "\n",
    "if torch.cuda.is_available() and not options.cuda:\n",
    "    print(\"WARNING: You have a CUDA device, so you should probably run with --cuda\")\n",
    "\n",
    "init_seed(options)\n",
    "\n",
    "tr_dataloader = init_dataloader(options, 'train')\n",
    "val_dataloader = init_dataloader(options, 'val')\n",
    "# trainval_dataloader = init_dataloader(options, 'trainval')\n",
    "test_dataloader = init_dataloader(options, 'test')\n",
    "\n",
    "model = init_protonet(options)\n",
    "optim = init_optim(options, model)\n",
    "lr_scheduler = init_lr_scheduler(options, optim)\n",
    "res = train(opt=options,\n",
    "            tr_dataloader=tr_dataloader,\n",
    "            val_dataloader=val_dataloader,\n",
    "            model=model,\n",
    "            optim=optim,\n",
    "            lr_scheduler=lr_scheduler)\n",
    "best_state, best_acc, train_loss, train_acc, val_loss, val_acc = res\n",
    "print('Testing with last model..')\n",
    "test(opt=options,\n",
    "        test_dataloader=test_dataloader,\n",
    "        model=model)\n",
    "\n",
    "model.load_state_dict(best_state)\n",
    "print('Testing with best model..')\n",
    "test(opt=options,\n",
    "        test_dataloader=test_dataloader,\n",
    "        model=model)\n",
    "\n"
   ]
  },
  {
   "cell_type": "markdown",
   "metadata": {},
   "source": [
    "## Extras"
   ]
  },
  {
   "cell_type": "code",
   "execution_count": 174,
   "metadata": {},
   "outputs": [
    {
     "data": {
      "image/png": "[encoded data removed]",
      "text/plain": [
       "<Figure size 1500x300 with 10 Axes>"
      ]
     },
     "metadata": {},
     "output_type": "display_data"
    }
   ],
   "source": [
    "import torch\n",
    "import matplotlib.pyplot as plt\n",
    "\n",
    "def visualize_prototypes(model, test_dataloader, n_classes=10, img_size=(28, 28), n_support=5):\n",
    "    model.eval()\n",
    "    embeddings = []\n",
    "    labels = []\n",
    "\n",
    "    with torch.no_grad():\n",
    "        for images, targets in test_dataloader:\n",
    "            images = images.to(next(model.parameters()).device) \n",
    "            emb = model(images)  \n",
    "            embeddings.append(emb.cpu())  \n",
    "            labels.append(targets.cpu())\n",
    "\n",
    "    embeddings = torch.cat(embeddings, dim=0)  \n",
    "    labels = torch.cat(labels, dim=0) \n",
    "\n",
    "    prototypes = model.get_prototypes(embeddings, labels, n_support)\n",
    "    #print(f\"Forma de los prototipos antes del reshape: {prototypes.shape}\")  \n",
    "\n",
    "    if hasattr(model, \"decoder\"):\n",
    "        print(\"Usando decoder para reconstruir imágenes a partir de prototipos.\")\n",
    "        prototypes = model.decoder(prototypes).cpu().detach()\n",
    "    else:\n",
    "        # Intentar mapear a la dimensión de la imagen si no es cuadrado perfecto\n",
    "        if prototypes.shape[1] < img_size[0] * img_size[1]:  \n",
    "            # print(\"Expandiendo la dimensionalidad del prototipo\")\n",
    "            linear_map = torch.nn.Linear(prototypes.shape[1], img_size[0] * img_size[1])\n",
    "            prototypes = linear_map(prototypes)\n",
    "        \n",
    "        lado = int(prototypes.shape[1] ** 0.5)\n",
    "        if lado * lado == prototypes.shape[1]:  \n",
    "            prototypes = prototypes.view(n_classes, 1, lado, lado)\n",
    "        else:\n",
    "            raise ValueError(f\"Los prototipos no tienen una forma adecuada para imágenes: {prototypes.shape}\")\n",
    "\n",
    "    #print(f\"Forma de los prototipos después del reshape: {prototypes.shape}\")\n",
    "    \n",
    "    try:\n",
    "        if prototypes.dim() == 2:  \n",
    "            # Si los prototipos son vectores latentes, intenta reorganizarlos en imágenes\n",
    "            lado = int(prototypes.shape[1] ** 0.5)  # Suponer imagen cuadrada\n",
    "            if lado * lado == prototypes.shape[1]:\n",
    "                prototypes = prototypes.view(n_classes, 1, lado, lado)\n",
    "            else:\n",
    "                raise ValueError(\"Los prototipos no tienen una forma adecuada para imágenes.\")\n",
    "        elif prototypes.dim() == 4:  \n",
    "            if prototypes.shape[1] == 1 or prototypes.shape[1] == 3:  \n",
    "                pass  \n",
    "            else:\n",
    "                prototypes = prototypes[:, 0, :, :]  \n",
    "\n",
    "        #print(f\"Forma de los prototipos después del reshape: {prototypes.shape}\")\n",
    "\n",
    "    except (RuntimeError, ValueError) as e:\n",
    "        print(f\"Error en reshape: {e}\")\n",
    "        return\n",
    "\n",
    "    fig, axes = plt.subplots(1, n_classes, figsize=(15, 3))\n",
    "    for i, ax in enumerate(axes):\n",
    "        # ax.imshow(prototypes[i].numpy().squeeze(), cmap='gray')\n",
    "        ax.imshow(prototypes[i].detach().numpy().squeeze(), cmap='gray')\n",
    "        ax.set_title(f'Class {i}')\n",
    "        ax.axis('off')\n",
    "    plt.show()\n",
    "\n",
    "visualize_prototypes(model, test_dataloader, n_classes=10, img_size=(28, 28), n_support=5)\n"
   ]
  },
  {
   "cell_type": "code",
   "execution_count": 172,
   "metadata": {},
   "outputs": [
    {
     "data": {
      "image/png": "[encoded data removed]",
      "text/plain": [
       "<Figure size 1500x300 with 10 Axes>"
      ]
     },
     "metadata": {},
     "output_type": "display_data"
    }
   ],
   "source": [
    "import torch\n",
    "import matplotlib.pyplot as plt\n",
    "\n",
    "def test_and_visualize(model, test_dataloader, n_samples=10, img_size=(28, 28)):\n",
    "    model.eval()\n",
    "    \n",
    "    images_list = []\n",
    "    true_labels = []\n",
    "    predicted_labels = []\n",
    "    pred_prob = []\n",
    "    \n",
    "    with torch.no_grad():\n",
    "        for images, targets in test_dataloader:\n",
    "            images = images.to(next(model.parameters()).device)  \n",
    "            outputs = model(images)  # Obtener predicciones\n",
    "            preds = outputs.argmax(dim=1).cpu()  # Convertir logits a etiquetas\n",
    "            images_list.append(images.cpu())\n",
    "            true_labels.append(targets.cpu())\n",
    "            predicted_labels.append(preds)\n",
    "            pred_prob.append(outputs.softmax(dim=1).cpu())\n",
    "\n",
    "            if len(images_list) * images.shape[0] >= n_samples:\n",
    "                break  # Tomar solo los primeros n_samples ejemplos\n",
    "\n",
    "    # print(predicted_labels)\n",
    "    # print(len(pred_prob[0][0]))\n",
    "    # Concatenar los datos recolectados\n",
    "    images_list = torch.cat(images_list, dim=0)[:n_samples]\n",
    "    true_labels = torch.cat(true_labels, dim=0)[:n_samples]\n",
    "    predicted_labels = torch.cat(predicted_labels, dim=0)[:n_samples]\n",
    "    \n",
    "\n",
    "    # Graficar imágenes con etiquetas reales y predichas\n",
    "    fig, axes = plt.subplots(1, n_samples, figsize=(15, 3))\n",
    "    for i, ax in enumerate(axes):\n",
    "        ax.imshow(images_list[i].squeeze().numpy(), cmap='gray')\n",
    "        ax.set_title(f'True: {true_labels[i].item()}\\nPred: {predicted_labels[i].item()}')\n",
    "        ax.axis('off')\n",
    "\n",
    "    plt.show()\n",
    "\n",
    "# Llamar a la función para probar el modelo y visualizar predicciones\n",
    "test_and_visualize(model, test_dataloader, n_samples=10, img_size=(28, 28))\n"
   ]
  },
  {
   "cell_type": "code",
   "execution_count": 155,
   "metadata": {},
   "outputs": [
    {
     "data": {
      "image/png": "[encoded data removed]",
      "text/plain": [
       "<Figure size 800x600 with 1 Axes>"
      ]
     },
     "metadata": {},
     "output_type": "display_data"
    }
   ],
   "source": [
    "import torch\n",
    "import matplotlib.pyplot as plt\n",
    "from sklearn.manifold import TSNE\n",
    "\n",
    "def visualize_prototypes_tsne(model, dataset, n_classes=10):\n",
    "    model.eval()\n",
    "    embeddings = []\n",
    "    labels = []\n",
    "\n",
    "    with torch.no_grad():\n",
    "        for i in range(len(dataset)):\n",
    "            img, label = dataset[i]\n",
    "            img = img.unsqueeze(0)  # Añadir batch dimension\n",
    "            embedding = model.encoder(img)  # Extraer embedding\n",
    "            embeddings.append(embedding)\n",
    "            labels.append(label)\n",
    "\n",
    "    embeddings = torch.cat(embeddings)  # Convertir en tensor\n",
    "    labels = torch.tensor(labels)\n",
    "\n",
    "    prototypes = []\n",
    "    for c in range(n_classes):\n",
    "        class_embeddings = embeddings[labels == c]\n",
    "        if len(class_embeddings) > 0:\n",
    "            proto = class_embeddings.mean(dim=0)  # Media de embeddings por clase\n",
    "            prototypes.append(proto)\n",
    "\n",
    "    if len(prototypes) < 2:\n",
    "        print(\"No hay suficientes prototipos para visualizar con t-SNE.\")\n",
    "        return\n",
    "\n",
    "    # Convertir a numpy y asegurar que sea 2D (num_prototypes, features)\n",
    "    prototypes = torch.stack(prototypes).cpu().numpy()\n",
    "    prototypes = prototypes.reshape(prototypes.shape[0], -1)  # Asegurar que es 2D\n",
    "\n",
    "    # Ajustar perplexity según el número de prototipos\n",
    "    perplexity_value = min(len(prototypes) - 1, 5)\n",
    "\n",
    "    # Aplicar t-SNE para reducir a 2D\n",
    "    tsne = TSNE(n_components=2, perplexity=perplexity_value, random_state=42)\n",
    "    proto_2d = tsne.fit_transform(prototypes)\n",
    "\n",
    "    # Graficar los prototipos en 2D\n",
    "    plt.figure(figsize=(8, 6))\n",
    "    for i in range(len(prototypes)):\n",
    "        plt.scatter(proto_2d[i, 0], proto_2d[i, 1], label=f'Class {i}')\n",
    "    plt.legend()\n",
    "    plt.title('Prototipos en el espacio 2D')\n",
    "    plt.xlabel('Dim 1')\n",
    "    plt.ylabel('Dim 2')\n",
    "    plt.show()\n",
    "\n",
    "# Llamar a la función\n",
    "visualize_prototypes_tsne(model, dataset=test_dataloader.dataset, n_classes=10)\n"
   ]
  },
  {
   "cell_type": "code",
   "execution_count": 156,
   "metadata": {},
   "outputs": [
    {
     "ename": "ValueError",
     "evalue": "cannot reshape array of size 10 into shape (8,8)",
     "output_type": "error",
     "traceback": [
      "\u001b[0;31m---------------------------------------------------------------------------\u001b[0m",
      "\u001b[0;31mValueError\u001b[0m                                Traceback (most recent call last)",
      "Cell \u001b[0;32mIn[156], line 38\u001b[0m\n\u001b[1;32m     35\u001b[0m     plt\u001b[38;5;241m.\u001b[39mshow()\n\u001b[1;32m     37\u001b[0m \u001b[38;5;66;03m# Llamar a la función\u001b[39;00m\n\u001b[0;32m---> 38\u001b[0m \u001b[43mvisualize_prototypes_heatmap\u001b[49m\u001b[43m(\u001b[49m\u001b[43mmodel\u001b[49m\u001b[43m,\u001b[49m\u001b[43m \u001b[49m\u001b[43mdataset\u001b[49m\u001b[38;5;241;43m=\u001b[39;49m\u001b[43mtest_dataloader\u001b[49m\u001b[38;5;241;43m.\u001b[39;49m\u001b[43mdataset\u001b[49m\u001b[43m,\u001b[49m\u001b[43m \u001b[49m\u001b[43mn_classes\u001b[49m\u001b[38;5;241;43m=\u001b[39;49m\u001b[38;5;241;43m10\u001b[39;49m\u001b[43m)\u001b[49m\n",
      "Cell \u001b[0;32mIn[156], line 31\u001b[0m, in \u001b[0;36mvisualize_prototypes_heatmap\u001b[0;34m(model, dataset, n_classes)\u001b[0m\n\u001b[1;32m     29\u001b[0m fig, axes \u001b[38;5;241m=\u001b[39m plt\u001b[38;5;241m.\u001b[39msubplots(\u001b[38;5;241m1\u001b[39m, n_classes, figsize\u001b[38;5;241m=\u001b[39m(\u001b[38;5;241m15\u001b[39m, \u001b[38;5;241m3\u001b[39m))\n\u001b[1;32m     30\u001b[0m \u001b[38;5;28;01mfor\u001b[39;00m i, ax \u001b[38;5;129;01min\u001b[39;00m \u001b[38;5;28menumerate\u001b[39m(axes):\n\u001b[0;32m---> 31\u001b[0m     sns\u001b[38;5;241m.\u001b[39mheatmap(\u001b[43mprototypes\u001b[49m\u001b[43m[\u001b[49m\u001b[43mi\u001b[49m\u001b[43m]\u001b[49m\u001b[38;5;241;43m.\u001b[39;49m\u001b[43mreshape\u001b[49m\u001b[43m(\u001b[49m\u001b[38;5;241;43m8\u001b[39;49m\u001b[43m,\u001b[49m\u001b[43m \u001b[49m\u001b[38;5;241;43m8\u001b[39;49m\u001b[43m)\u001b[49m, cmap\u001b[38;5;241m=\u001b[39m\u001b[38;5;124m\"\u001b[39m\u001b[38;5;124mcoolwarm\u001b[39m\u001b[38;5;124m\"\u001b[39m, ax\u001b[38;5;241m=\u001b[39max)\n\u001b[1;32m     32\u001b[0m     ax\u001b[38;5;241m.\u001b[39mset_title(\u001b[38;5;124mf\u001b[39m\u001b[38;5;124m'\u001b[39m\u001b[38;5;124mClass \u001b[39m\u001b[38;5;132;01m{\u001b[39;00mi\u001b[38;5;132;01m}\u001b[39;00m\u001b[38;5;124m'\u001b[39m)\n\u001b[1;32m     33\u001b[0m     ax\u001b[38;5;241m.\u001b[39maxis(\u001b[38;5;124m'\u001b[39m\u001b[38;5;124moff\u001b[39m\u001b[38;5;124m'\u001b[39m)\n",
      "\u001b[0;31mValueError\u001b[0m: cannot reshape array of size 10 into shape (8,8)"
     ]
    },
    {
     "data": {
      "image/png": "[encoded data removed]",
      "text/plain": [
       "<Figure size 1500x300 with 10 Axes>"
      ]
     },
     "metadata": {},
     "output_type": "display_data"
    }
   ],
   "source": [
    "import seaborn as sns\n",
    "\n",
    "def visualize_prototypes_heatmap(model, dataset, n_classes=10):\n",
    "    model.eval()\n",
    "    embeddings = []\n",
    "    labels = []\n",
    "\n",
    "    with torch.no_grad():\n",
    "        for i in range(len(dataset)):\n",
    "            img, label = dataset[i]\n",
    "            img = img.unsqueeze(0)\n",
    "            embedding = model.encoder(img)\n",
    "            embeddings.append(embedding)\n",
    "            labels.append(label)\n",
    "\n",
    "    embeddings = torch.cat(embeddings)\n",
    "    labels = torch.tensor(labels)\n",
    "\n",
    "    prototypes = []\n",
    "    for c in range(n_classes):\n",
    "        class_embeddings = embeddings[labels == c]\n",
    "        if len(class_embeddings) > 0:\n",
    "            proto = class_embeddings.mean(dim=0)\n",
    "            prototypes.append(proto)\n",
    "\n",
    "    prototypes = torch.stack(prototypes).cpu().numpy()\n",
    "\n",
    "    # Visualizar como heatmap\n",
    "    fig, axes = plt.subplots(1, n_classes, figsize=(15, 3))\n",
    "    for i, ax in enumerate(axes):\n",
    "        sns.heatmap(prototypes[i].reshape(8, 8), cmap=\"coolwarm\", ax=ax)\n",
    "        ax.set_title(f'Class {i}')\n",
    "        ax.axis('off')\n",
    "\n",
    "    plt.show()\n",
    "\n",
    "# Llamar a la función\n",
    "visualize_prototypes_heatmap(model, dataset=test_dataloader.dataset, n_classes=10)\n"
   ]
  }
 ],
 "metadata": {
  "kernelspec": {
   "display_name": "Python 3",
   "language": "python",
   "name": "python3"
  },
  "language_info": {
   "codemirror_mode": {
    "name": "ipython",
    "version": 3
   },
   "file_extension": ".py",
   "mimetype": "text/x-python",
   "name": "python",
   "nbconvert_exporter": "python",
   "pygments_lexer": "ipython3",
   "version": "3.9.6"
  }
 },
 "nbformat": 4,
 "nbformat_minor": 2
}
